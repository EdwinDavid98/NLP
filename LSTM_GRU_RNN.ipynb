{
  "nbformat": 4,
  "nbformat_minor": 0,
  "metadata": {
    "colab": {
      "provenance": []
    },
    "kernelspec": {
      "name": "python3",
      "display_name": "Python 3"
    },
    "language_info": {
      "name": "python"
    }
  },
  "cells": [
    {
      "cell_type": "markdown",
      "source": [
        "# MAESTRIA INTELIGENCIA  ARTIFICIAL\n",
        "\n",
        "---"
      ],
      "metadata": {
        "id": "FEvZMIX9_C9L"
      }
    },
    {
      "cell_type": "markdown",
      "source": [
        "INTEGRANTES:\n",
        "- Edwin Montenegro\n",
        "- Galo Travez"
      ],
      "metadata": {
        "id": "DCZ8fDBQ_Hii"
      }
    },
    {
      "cell_type": "markdown",
      "source": [
        "## LABORATORIO 5\n",
        "### OBJETIVO\n",
        "El objetivo principal del taller es comparar el rendimiento de diferentes arquitecturas de redes neuronales recurrentes (RNN, LSTM y GRU) en una tarea de clasificación de sentimientos. Se busca entrenar y evaluar los modelos para entender cuál de estas arquitecturas es más efectiva para este tipo de tarea y extraer conclusiones basadas en las métricas obtenidas"
      ],
      "metadata": {
        "id": "66jZz7pK_LSY"
      }
    },
    {
      "cell_type": "markdown",
      "source": [
        "# INDICE\n",
        "- Carga y Exploración de Datos:\n",
        "- Preparación de los Datos:\n",
        "- Definición y construcción de tres modelos:\n",
        "- Entrenamiento de los Modelos:\n",
        "- Evaluación de los Modelos:\n"
      ],
      "metadata": {
        "id": "QLgD6tGl_UW7"
      }
    },
    {
      "cell_type": "code",
      "execution_count": 9,
      "metadata": {
        "id": "3gwaZpDep-6t"
      },
      "outputs": [],
      "source": [
        "import pandas as pd\n",
        "import seaborn as sns\n",
        "import matplotlib.pyplot as plt\n",
        "from sklearn.model_selection import train_test_split\n",
        "import tensorflow as tf\n",
        "from tensorflow.keras.preprocessing.text import Tokenizer\n",
        "from tensorflow.keras.preprocessing.sequence import pad_sequences\n",
        "from keras.models import Sequential\n",
        "from keras.layers import SimpleRNN, Dense, Embedding, LSTM, GRU\n",
        "from sklearn.metrics import classification_report, f1_score"
      ]
    },
    {
      "cell_type": "code",
      "source": [
        "# Verificar si TensorFlow está usando la GPU\n",
        "print(\"¿TensorFlow está usando la GPU?:\", tf.config.list_physical_devices('GPU'))"
      ],
      "metadata": {
        "colab": {
          "base_uri": "https://localhost:8080/"
        },
        "id": "04ADOJxLrsPd",
        "outputId": "d1e7b30e-28cd-420a-e20c-95ffcd0b806b"
      },
      "execution_count": 19,
      "outputs": [
        {
          "output_type": "stream",
          "name": "stdout",
          "text": [
            "¿TensorFlow está usando la GPU?: [PhysicalDevice(name='/physical_device:GPU:0', device_type='GPU'), PhysicalDevice(name='/physical_device:GPU:1', device_type='GPU'), PhysicalDevice(name='/physical_device:GPU:2', device_type='GPU'), PhysicalDevice(name='/physical_device:GPU:3', device_type='GPU')]\n"
          ]
        }
      ]
    },
    {
      "cell_type": "code",
      "source": [
        "# Cargar el archivo TSV\n",
        "data = pd.read_csv('/home/emontenegrob/Labs_NLP/data/train.tsv', sep='\\t')\n",
        "\n",
        "# Mostrar las primeras filas del dataset\n",
        "print(data.head())\n"
      ],
      "metadata": {
        "colab": {
          "base_uri": "https://localhost:8080/"
        },
        "id": "6ndNWq4-qYxv",
        "outputId": "4b9fe7c2-5aa6-48c0-fd5e-e528fcfa4d57"
      },
      "execution_count": 2,
      "outputs": [
        {
          "output_type": "stream",
          "name": "stdout",
          "text": [
            "   PhraseId  SentenceId                                             Phrase  \\\n",
            "0         1           1  A series of escapades demonstrating the adage ...   \n",
            "1         2           1  A series of escapades demonstrating the adage ...   \n",
            "2         3           1                                           A series   \n",
            "3         4           1                                                  A   \n",
            "4         5           1                                             series   \n",
            "\n",
            "   Sentiment  \n",
            "0          1  \n",
            "1          2  \n",
            "2          2  \n",
            "3          2  \n",
            "4          2  \n"
          ]
        }
      ]
    },
    {
      "cell_type": "code",
      "source": [
        "# Ajustar las clases de Sentiment correctamente\n",
        "# 0 - Negativo, 1 - Algo negativo, 2 - Neutral, 3 - Algo positivo, 4 - Positivo\n",
        "def map_sentiment(value):\n",
        "    if value == 0:\n",
        "        return 0  # Negativo\n",
        "    elif value == 1:\n",
        "        return 1  # Algo negativo\n",
        "    elif value == 2:\n",
        "        return 2  # Neutral\n",
        "    elif value == 3:\n",
        "        return 3  # Algo positivo\n",
        "    else:\n",
        "        return 4  # Positivo\n",
        "\n",
        "data['Sentiment'] = data['Sentiment'].map(map_sentiment)\n",
        "\n",
        "# Mostrar la distribución de las nuevas etiquetas\n",
        "print(data['Sentiment'].value_counts())"
      ],
      "metadata": {
        "colab": {
          "base_uri": "https://localhost:8080/"
        },
        "id": "JCW--XfQqfaR",
        "outputId": "c6b29ac2-9c8a-4f88-facb-1a460fe35ebb"
      },
      "execution_count": 3,
      "outputs": [
        {
          "output_type": "stream",
          "name": "stdout",
          "text": [
            "Sentiment\n",
            "2    79582\n",
            "3    32927\n",
            "1    27273\n",
            "4     9206\n",
            "0     7072\n",
            "Name: count, dtype: int64\n"
          ]
        }
      ]
    },
    {
      "cell_type": "markdown",
      "source": [
        "# Graficar la distribución de las clases\n"
      ],
      "metadata": {
        "id": "DtSxwaXMHrir"
      }
    },
    {
      "cell_type": "code",
      "source": [
        "# Graficar la distribución de las clases usando seaborn\n",
        "sns.countplot(x='Sentiment', data=data)\n",
        "plt.title(\"Distribución de las clases de Sentiment\")\n",
        "plt.xlabel(\"Clases\")\n",
        "plt.ylabel(\"Frecuencia\")\n",
        "plt.show()"
      ],
      "metadata": {
        "colab": {
          "base_uri": "https://localhost:8080/",
          "height": 472
        },
        "id": "oTY1Bd3nqiqi",
        "outputId": "8a9cd0d5-0175-4ce6-8568-cefa13928135"
      },
      "execution_count": 4,
      "outputs": [
        {
          "output_type": "display_data",
          "data": {
            "text/plain": [
              "<Figure size 640x480 with 1 Axes>"
            ],
            "image/png": "[encoded data removed]"
          },
          "metadata": {}
        }
      ]
    },
    {
      "cell_type": "markdown",
      "source": [
        "# Interpretación de datos\n",
        "- La distribución de las clases es altamente desbalanceada. La clase 2 (neutral) domina con la mayor cantidad de ejemplos, seguida por las clases 1 (algo negativo) y 3 (algo positivo), mientras que las clases 0 (negativo) y 4 (positivo) son significativamente menos comunes."
      ],
      "metadata": {
        "id": "cApFyvU-HucQ"
      }
    },
    {
      "cell_type": "code",
      "source": [
        "# Dividir los datos en entrenamiento y prueba de manera estratificada\n",
        "X = data['Phrase'].values  # Las frases (reseñas)\n",
        "y = data['Sentiment'].values  # Las etiquetas (sentimientos)"
      ],
      "metadata": {
        "id": "6MHqBK5uqkiM"
      },
      "execution_count": 6,
      "outputs": []
    },
    {
      "cell_type": "code",
      "source": [
        "X_train, X_test, y_train, y_test = train_test_split(X, y, test_size=0.2, random_state=13, stratify=y)\n",
        "\n",
        "print(f'Tamaño del conjunto de entrenamiento: {len(X_train)}')\n",
        "print(f'Tamaño del conjunto de prueba: {len(X_test)}')"
      ],
      "metadata": {
        "colab": {
          "base_uri": "https://localhost:8080/"
        },
        "id": "H1HHJjsmqlzJ",
        "outputId": "ff92eb70-3339-4f4a-bd31-63920365d3fe"
      },
      "execution_count": 7,
      "outputs": [
        {
          "output_type": "stream",
          "name": "stdout",
          "text": [
            "Tamaño del conjunto de entrenamiento: 124848\n",
            "Tamaño del conjunto de prueba: 31212\n"
          ]
        }
      ]
    },
    {
      "cell_type": "code",
      "source": [
        "# Definir el número máximo de palabras que usaremos\n",
        "vocab_size = 10000  # Ajusta este valor según tu dataset\n",
        "max_length = 100  # Longitud máxima de las secuencias de palabras\n",
        "\n",
        "# Crear el tokenizador\n",
        "tokenizer = Tokenizer(num_words=vocab_size, oov_token='<OOV>')\n",
        "tokenizer.fit_on_texts(X_train)\n",
        "\n",
        "# Convertir las frases a secuencias de tokens\n",
        "X_train_sequences = tokenizer.texts_to_sequences(X_train)\n",
        "X_test_sequences = tokenizer.texts_to_sequences(X_test)\n",
        "\n",
        "# Hacer padding a las secuencias para que tengan la misma longitud\n",
        "X_train_padded = pad_sequences(X_train_sequences, maxlen=max_length, padding='post')\n",
        "X_test_padded = pad_sequences(X_test_sequences, maxlen=max_length, padding='post')\n",
        "\n",
        "# Mostrar la primera secuencia tokenizada y con padding\n",
        "print(X_train_padded[0])"
      ],
      "metadata": {
        "colab": {
          "base_uri": "https://localhost:8080/"
        },
        "id": "LQM-7of_q3X0",
        "outputId": "7b7704b9-e16f-4dbc-9f49-98e77d903669"
      },
      "execution_count": 10,
      "outputs": [
        {
          "output_type": "stream",
          "name": "stdout",
          "text": [
            "[  9   3 359  16   0   0   0   0   0   0   0   0   0   0   0   0   0   0\n",
            "   0   0   0   0   0   0   0   0   0   0   0   0   0   0   0   0   0   0\n",
            "   0   0   0   0   0   0   0   0   0   0   0   0   0   0   0   0   0   0\n",
            "   0   0   0   0   0   0   0   0   0   0   0   0   0   0   0   0   0   0\n",
            "   0   0   0   0   0   0   0   0   0   0   0   0   0   0   0   0   0   0\n",
            "   0   0   0   0   0   0   0   0   0   0]\n"
          ]
        }
      ]
    },
    {
      "cell_type": "code",
      "source": [
        "# Imprimir las primeras 5 secuencias tokenizadas\n",
        "for i in range(5):\n",
        "    print(f\"Secuencia {i+1}: {X_train_padded[i]}\")\n",
        "\n",
        "# Obtener el índice de palabras\n",
        "word_index = tokenizer.word_index\n",
        "\n",
        "# Mostrar las primeras 20 palabras del vocabulario\n",
        "for word, index in list(word_index.items())[:20]:\n",
        "    print(f\"{word}: {index}\")"
      ],
      "metadata": {
        "colab": {
          "base_uri": "https://localhost:8080/"
        },
        "id": "AOcRuV-2q7oQ",
        "outputId": "0ea8154d-13a5-44a1-a134-5d8e06285915"
      },
      "execution_count": 11,
      "outputs": [
        {
          "output_type": "stream",
          "name": "stdout",
          "text": [
            "Secuencia 1: [  9   3 359  16   0   0   0   0   0   0   0   0   0   0   0   0   0   0\n",
            "   0   0   0   0   0   0   0   0   0   0   0   0   0   0   0   0   0   0\n",
            "   0   0   0   0   0   0   0   0   0   0   0   0   0   0   0   0   0   0\n",
            "   0   0   0   0   0   0   0   0   0   0   0   0   0   0   0   0   0   0\n",
            "   0   0   0   0   0   0   0   0   0   0   0   0   0   0   0   0   0   0\n",
            "   0   0   0   0   0   0   0   0   0   0]\n",
            "Secuencia 2: [  59  427 1072 1200   14 1132    5   64    1  582    6   89  200    0\n",
            "    0    0    0    0    0    0    0    0    0    0    0    0    0    0\n",
            "    0    0    0    0    0    0    0    0    0    0    0    0    0    0\n",
            "    0    0    0    0    0    0    0    0    0    0    0    0    0    0\n",
            "    0    0    0    0    0    0    0    0    0    0    0    0    0    0\n",
            "    0    0    0    0    0    0    0    0    0    0    0    0    0    0\n",
            "    0    0    0    0    0    0    0    0    0    0    0    0    0    0\n",
            "    0    0]\n",
            "Secuencia 3: [1 0 0 0 0 0 0 0 0 0 0 0 0 0 0 0 0 0 0 0 0 0 0 0 0 0 0 0 0 0 0 0 0 0 0 0 0\n",
            " 0 0 0 0 0 0 0 0 0 0 0 0 0 0 0 0 0 0 0 0 0 0 0 0 0 0 0 0 0 0 0 0 0 0 0 0 0\n",
            " 0 0 0 0 0 0 0 0 0 0 0 0 0 0 0 0 0 0 0 0 0 0 0 0 0 0]\n",
            "Secuencia 4: [1 1 1 0 0 0 0 0 0 0 0 0 0 0 0 0 0 0 0 0 0 0 0 0 0 0 0 0 0 0 0 0 0 0 0 0 0\n",
            " 0 0 0 0 0 0 0 0 0 0 0 0 0 0 0 0 0 0 0 0 0 0 0 0 0 0 0 0 0 0 0 0 0 0 0 0 0\n",
            " 0 0 0 0 0 0 0 0 0 0 0 0 0 0 0 0 0 0 0 0 0 0 0 0 0 0]\n",
            "Secuencia 5: [4102 9169    9   17 2475   16    0    0    0    0    0    0    0    0\n",
            "    0    0    0    0    0    0    0    0    0    0    0    0    0    0\n",
            "    0    0    0    0    0    0    0    0    0    0    0    0    0    0\n",
            "    0    0    0    0    0    0    0    0    0    0    0    0    0    0\n",
            "    0    0    0    0    0    0    0    0    0    0    0    0    0    0\n",
            "    0    0    0    0    0    0    0    0    0    0    0    0    0    0\n",
            "    0    0    0    0    0    0    0    0    0    0    0    0    0    0\n",
            "    0    0]\n",
            "<OOV>: 1\n",
            "the: 2\n",
            "a: 3\n",
            "of: 4\n",
            "and: 5\n",
            "to: 6\n",
            "'s: 7\n",
            "in: 8\n",
            "is: 9\n",
            "that: 10\n",
            "it: 11\n",
            "as: 12\n",
            "with: 13\n",
            "for: 14\n",
            "its: 15\n",
            "film: 16\n",
            "an: 17\n",
            "movie: 18\n",
            "this: 19\n",
            "but: 20\n"
          ]
        }
      ]
    },
    {
      "cell_type": "code",
      "source": [
        "# Ajustar la longitud máxima para padding\n",
        "max_length = 50\n",
        "X_train_padded = pad_sequences(X_train_sequences, maxlen=max_length, padding='post')\n",
        "X_test_padded = pad_sequences(X_test_sequences, maxlen=max_length, padding='post')\n",
        "\n",
        "# Calcular la longitud de cada secuencia\n",
        "lengths = [len(seq) for seq in X_train_sequences]\n"
      ],
      "metadata": {
        "id": "Z78L4djfrDlC"
      },
      "execution_count": 12,
      "outputs": []
    },
    {
      "cell_type": "code",
      "source": [
        "# Graficar la distribución de las longitudes de secuencias\n",
        "plt.hist(lengths, bins=50)\n",
        "plt.title(\"Distribución de la longitud de las secuencias\")\n",
        "plt.xlabel(\"Longitud de la secuencia\")\n",
        "plt.ylabel(\"Frecuencia\")\n",
        "plt.show()"
      ],
      "metadata": {
        "colab": {
          "base_uri": "https://localhost:8080/",
          "height": 472
        },
        "id": "2pJnF18wrFQn",
        "outputId": "4ed55bb2-5efc-4967-d886-785ada5efd5a"
      },
      "execution_count": 13,
      "outputs": [
        {
          "output_type": "display_data",
          "data": {
            "text/plain": [
              "<Figure size 640x480 with 1 Axes>"
            ],
            "image/png": "[encoded data removed]"
          },
          "metadata": {}
        }
      ]
    },
    {
      "cell_type": "markdown",
      "source": [
        "###  Definir el modelo RNN\n",
        "- Entrada: El modelo recibe frases (texto) como entrada.\n",
        "- Procesamiento: A través de la capa de embedding y la capa recurrente, el modelo transforma la secuencia de palabras y procesa su significado.\n",
        "- Salida: El modelo predice una de las cinco clases de sentimiento basándose en la secuencia completa.\n"
      ],
      "metadata": {
        "id": "PVq5lM8_ARbM"
      }
    },
    {
      "cell_type": "code",
      "source": [
        "# Definir el modelo RNN\n",
        "model_rnn = Sequential()\n",
        "model_rnn.add(Embedding(input_dim=vocab_size, output_dim=64, input_length=max_length))\n",
        "model_rnn.add(SimpleRNN(units=64, return_sequences=False))  # La capa RNN\n",
        "model_rnn.add(Dense(5, activation='softmax'))  # Cinco clases: Negativo, Algo negativo, Neutral, Algo positivo, Positivo\n",
        "\n",
        "# Compilar el modelo\n",
        "model_rnn.compile(optimizer='adam', loss='sparse_categorical_crossentropy', metrics=['accuracy'])\n",
        "\n",
        "# Resumen del modelo RNN\n",
        "model_rnn.summary()\n"
      ],
      "metadata": {
        "colab": {
          "base_uri": "https://localhost:8080/"
        },
        "id": "kePONnPzrIXk",
        "outputId": "d87c17ff-a67a-41a8-98c0-de929eac7fdf"
      },
      "execution_count": 14,
      "outputs": [
        {
          "output_type": "stream",
          "name": "stdout",
          "text": [
            "Model: \"sequential\"\n",
            "_________________________________________________________________\n",
            " Layer (type)                Output Shape              Param #   \n",
            "=================================================================\n",
            " embedding (Embedding)       (None, 50, 64)            640000    \n",
            "                                                                 \n",
            " simple_rnn (SimpleRNN)      (None, 64)                8256      \n",
            "                                                                 \n",
            " dense (Dense)               (None, 5)                 325       \n",
            "                                                                 \n",
            "=================================================================\n",
            "Total params: 648581 (2.47 MB)\n",
            "Trainable params: 648581 (2.47 MB)\n",
            "Non-trainable params: 0 (0.00 Byte)\n",
            "_________________________________________________________________\n"
          ]
        }
      ]
    },
    {
      "cell_type": "markdown",
      "source": [
        "### Definir el modelo LSTM\n",
        "- Entrada: Las frases de texto se convierten en secuencias numéricas mediante la capa Embedding.\n",
        "- Procesamiento Secuencial: La capa LSTM procesa la secuencia de palabras, \"recordando\" información importante de la secuencia, y devuelve una representación condensada de la frase completa.\n",
        "- Clasificación: La capa final toma esta representación y predice una de las cinco clases de sentimiento, asignando probabilidades a cada una y eligiendo la que tiene la mayor probabilidad."
      ],
      "metadata": {
        "id": "ge7tXfL_AUYi"
      }
    },
    {
      "cell_type": "code",
      "source": [
        "# Definir el modelo LSTM\n",
        "model_lstm = Sequential()\n",
        "model_lstm.add(Embedding(input_dim=vocab_size, output_dim=64, input_length=max_length))\n",
        "model_lstm.add(LSTM(units=64, return_sequences=False))  # La capa LSTM\n",
        "model_lstm.add(Dense(5, activation='softmax'))  # Cinco clases\n",
        "\n",
        "# Compilar el modelo LSTM\n",
        "model_lstm.compile(optimizer='adam', loss='sparse_categorical_crossentropy', metrics=['accuracy'])\n",
        "# Resumen del modelo LSTM\n",
        "model_lstm.summary()\n"
      ],
      "metadata": {
        "colab": {
          "base_uri": "https://localhost:8080/"
        },
        "id": "Xk1UC7kTrJ6E",
        "outputId": "12ed3a40-b258-4a1e-bcff-9974103f41b0"
      },
      "execution_count": 15,
      "outputs": [
        {
          "output_type": "stream",
          "name": "stdout",
          "text": [
            "Model: \"sequential_1\"\n",
            "_________________________________________________________________\n",
            " Layer (type)                Output Shape              Param #   \n",
            "=================================================================\n",
            " embedding_1 (Embedding)     (None, 50, 64)            640000    \n",
            "                                                                 \n",
            " lstm (LSTM)                 (None, 64)                33024     \n",
            "                                                                 \n",
            " dense_1 (Dense)             (None, 5)                 325       \n",
            "                                                                 \n",
            "=================================================================\n",
            "Total params: 673349 (2.57 MB)\n",
            "Trainable params: 673349 (2.57 MB)\n",
            "Non-trainable params: 0 (0.00 Byte)\n",
            "_________________________________________________________________\n"
          ]
        }
      ]
    },
    {
      "cell_type": "markdown",
      "source": [
        "### Definir el modelo GRU\n",
        "- Entrada: Las frases (convertidas en secuencias de números) pasan por la capa de embedding, que las convierte en vectores numéricos.\n",
        "- Procesamiento Secuencial: La capa GRU procesa la secuencia de palabras, aprendiendo patrones a lo largo de la secuencia, y genera una representación final de la frase.\n",
        "- Clasificación: La capa final utiliza esta representación para predecir la clase de sentimiento de la frase."
      ],
      "metadata": {
        "id": "roDuVyYXAWZQ"
      }
    },
    {
      "cell_type": "code",
      "source": [
        "# Definir el modelo GRU\n",
        "model_gru = Sequential()\n",
        "model_gru.add(Embedding(input_dim=vocab_size, output_dim=64, input_length=max_length))\n",
        "model_gru.add(GRU(units=64, return_sequences=False))  # La capa GRU\n",
        "model_gru.add(Dense(5, activation='softmax'))  # Cinco clases\n",
        "\n",
        "# Compilar el modelo GRU\n",
        "model_gru.compile(optimizer='adam', loss='sparse_categorical_crossentropy', metrics=['accuracy'])\n",
        "\n",
        "# Resumen del modelo GRU\n",
        "model_gru.summary()"
      ],
      "metadata": {
        "colab": {
          "base_uri": "https://localhost:8080/"
        },
        "id": "ksNS9BOIrM3d",
        "outputId": "9d103d2e-4292-4ef8-d63d-1c147b0d8167"
      },
      "execution_count": 16,
      "outputs": [
        {
          "output_type": "stream",
          "name": "stdout",
          "text": [
            "Model: \"sequential_2\"\n",
            "_________________________________________________________________\n",
            " Layer (type)                Output Shape              Param #   \n",
            "=================================================================\n",
            " embedding_2 (Embedding)     (None, 50, 64)            640000    \n",
            "                                                                 \n",
            " gru (GRU)                   (None, 64)                24960     \n",
            "                                                                 \n",
            " dense_2 (Dense)             (None, 5)                 325       \n",
            "                                                                 \n",
            "=================================================================\n",
            "Total params: 665285 (2.54 MB)\n",
            "Trainable params: 665285 (2.54 MB)\n",
            "Non-trainable params: 0 (0.00 Byte)\n",
            "_________________________________________________________________\n"
          ]
        }
      ]
    },
    {
      "cell_type": "markdown",
      "source": [
        "# Parámetros de Entrenamiento:\n",
        "La elección de 5 épocas y un batch_size de 32 permite un compromiso razonable entre rendimiento y eficiencia computacional. Estas configuraciones reducen el tiempo de entrenamiento y la demanda de recursos de procesamiento, haciendo que sea posible comparar rápidamente los tres modelos (RNN, LSTM y GRU)"
      ],
      "metadata": {
        "id": "Ek_e-haEIg2-"
      }
    },
    {
      "cell_type": "code",
      "source": [
        "# Entrenar el modelo RNN\n",
        "history_rnn = model_rnn.fit(X_train_padded, y_train, epochs=5, batch_size=32, validation_data=(X_test_padded, y_test))\n",
        "\n",
        "# Entrenar el modelo LSTM\n",
        "history_lstm = model_lstm.fit(X_train_padded, y_train, epochs=5, batch_size=32, validation_data=(X_test_padded, y_test))\n",
        "\n",
        "# Entrenar el modelo GRU\n",
        "history_gru = model_gru.fit(X_train_padded, y_train, epochs=5, batch_size=32, validation_data=(X_test_padded, y_test))\n"
      ],
      "metadata": {
        "colab": {
          "base_uri": "https://localhost:8080/"
        },
        "id": "B5BkPcvHrRC5",
        "outputId": "10d85b14-ab13-4443-a0dd-3ca646c95637"
      },
      "execution_count": 21,
      "outputs": [
        {
          "output_type": "stream",
          "name": "stdout",
          "text": [
            "Epoch 1/5\n",
            "3902/3902 [==============================] - 233s 60ms/step - loss: 1.2289 - accuracy: 0.5197 - val_loss: 1.2603 - val_accuracy: 0.5253\n",
            "Epoch 2/5\n",
            "3902/3902 [==============================] - 252s 65ms/step - loss: 1.2292 - accuracy: 0.5316 - val_loss: 1.1344 - val_accuracy: 0.5426\n",
            "Epoch 3/5\n",
            "3902/3902 [==============================] - 243s 62ms/step - loss: 1.0670 - accuracy: 0.5723 - val_loss: 1.0647 - val_accuracy: 0.5761\n",
            "Epoch 4/5\n",
            "3902/3902 [==============================] - 221s 57ms/step - loss: 1.0795 - accuracy: 0.5711 - val_loss: 1.1155 - val_accuracy: 0.5570\n",
            "Epoch 5/5\n",
            "3902/3902 [==============================] - 277s 71ms/step - loss: 0.9992 - accuracy: 0.6020 - val_loss: 1.0307 - val_accuracy: 0.5905\n",
            "Epoch 1/5\n",
            "3902/3902 [==============================] - 83s 20ms/step - loss: 1.0929 - accuracy: 0.5669 - val_loss: 0.9688 - val_accuracy: 0.6182\n",
            "Epoch 2/5\n",
            "3902/3902 [==============================] - 47s 12ms/step - loss: 0.9126 - accuracy: 0.6377 - val_loss: 0.8798 - val_accuracy: 0.6488\n",
            "Epoch 3/5\n",
            "3902/3902 [==============================] - 40s 10ms/step - loss: 0.8124 - accuracy: 0.6721 - val_loss: 0.8470 - val_accuracy: 0.6588\n",
            "Epoch 4/5\n",
            "3902/3902 [==============================] - 35s 9ms/step - loss: 0.7617 - accuracy: 0.6936 - val_loss: 0.8420 - val_accuracy: 0.6601\n",
            "Epoch 5/5\n",
            "3902/3902 [==============================] - 36s 9ms/step - loss: 0.7212 - accuracy: 0.7076 - val_loss: 0.8159 - val_accuracy: 0.6679\n",
            "Epoch 1/5\n",
            "3902/3902 [==============================] - 52s 13ms/step - loss: 1.0296 - accuracy: 0.5882 - val_loss: 0.8735 - val_accuracy: 0.6496\n",
            "Epoch 2/5\n",
            "3902/3902 [==============================] - 35s 9ms/step - loss: 0.7991 - accuracy: 0.6748 - val_loss: 0.8224 - val_accuracy: 0.6650\n",
            "Epoch 3/5\n",
            "3902/3902 [==============================] - 35s 9ms/step - loss: 0.7351 - accuracy: 0.6991 - val_loss: 0.8104 - val_accuracy: 0.6729\n",
            "Epoch 4/5\n",
            "3902/3902 [==============================] - 35s 9ms/step - loss: 0.6913 - accuracy: 0.7149 - val_loss: 0.8104 - val_accuracy: 0.6722\n",
            "Epoch 5/5\n",
            "3902/3902 [==============================] - 39s 10ms/step - loss: 0.6554 - accuracy: 0.7296 - val_loss: 0.8333 - val_accuracy: 0.6760\n"
          ]
        }
      ]
    },
    {
      "cell_type": "code",
      "source": [
        "# Hacer predicciones\n",
        "y_pred_rnn = model_rnn.predict(X_test_padded)\n",
        "y_pred_lstm = model_lstm.predict(X_test_padded)\n",
        "y_pred_gru = model_gru.predict(X_test_padded)"
      ],
      "metadata": {
        "colab": {
          "base_uri": "https://localhost:8080/"
        },
        "id": "PPBIl7mzzJKQ",
        "outputId": "72a69f8e-f20b-4c23-ec1b-31ef4fb4cced"
      },
      "execution_count": 22,
      "outputs": [
        {
          "output_type": "stream",
          "name": "stdout",
          "text": [
            "976/976 [==============================] - 13s 13ms/step\n",
            "976/976 [==============================] - 6s 5ms/step\n",
            "976/976 [==============================] - 5s 5ms/step\n"
          ]
        }
      ]
    },
    {
      "cell_type": "code",
      "source": [
        "# Convertir las predicciones a etiquetas\n",
        "y_pred_rnn = y_pred_rnn.argmax(axis=1)\n",
        "y_pred_lstm = y_pred_lstm.argmax(axis=1)\n",
        "y_pred_gru = y_pred_gru.argmax(axis=1)"
      ],
      "metadata": {
        "id": "wrseh3LBzR3D"
      },
      "execution_count": 23,
      "outputs": []
    },
    {
      "cell_type": "code",
      "source": [
        "# Evaluar el modelo RNN\n",
        "print(\"Reporte de clasificación RNN:\")\n",
        "print(classification_report(y_test, y_pred_rnn, target_names=['Negativo', 'Algo negativo', 'Neutral', 'Algo positivo', 'Positivo']))\n"
      ],
      "metadata": {
        "colab": {
          "base_uri": "https://localhost:8080/"
        },
        "id": "y16gO154zUgT",
        "outputId": "486bbb81-24a6-41db-b5cd-3fc45adc88d3"
      },
      "execution_count": 24,
      "outputs": [
        {
          "output_type": "stream",
          "name": "stdout",
          "text": [
            "Reporte de clasificación RNN:\n",
            "               precision    recall  f1-score   support\n",
            "\n",
            "     Negativo       0.00      0.00      0.00      1414\n",
            "Algo negativo       0.36      0.29      0.32      5455\n",
            "      Neutral       0.67      0.84      0.74     15917\n",
            "Algo positivo       0.50      0.51      0.51      6585\n",
            "     Positivo       0.67      0.09      0.16      1841\n",
            "\n",
            "     accuracy                           0.59     31212\n",
            "    macro avg       0.44      0.35      0.35     31212\n",
            " weighted avg       0.55      0.59      0.55     31212\n",
            "\n"
          ]
        },
        {
          "output_type": "stream",
          "name": "stderr",
          "text": [
            "/usr/local/lib/python3.10/dist-packages/sklearn/metrics/_classification.py:1344: UndefinedMetricWarning: Precision and F-score are ill-defined and being set to 0.0 in labels with no predicted samples. Use `zero_division` parameter to control this behavior.\n",
            "  _warn_prf(average, modifier, msg_start, len(result))\n",
            "/usr/local/lib/python3.10/dist-packages/sklearn/metrics/_classification.py:1344: UndefinedMetricWarning: Precision and F-score are ill-defined and being set to 0.0 in labels with no predicted samples. Use `zero_division` parameter to control this behavior.\n",
            "  _warn_prf(average, modifier, msg_start, len(result))\n",
            "/usr/local/lib/python3.10/dist-packages/sklearn/metrics/_classification.py:1344: UndefinedMetricWarning: Precision and F-score are ill-defined and being set to 0.0 in labels with no predicted samples. Use `zero_division` parameter to control this behavior.\n",
            "  _warn_prf(average, modifier, msg_start, len(result))\n"
          ]
        }
      ]
    },
    {
      "cell_type": "code",
      "source": [
        "# Evaluar el modelo LSTM\n",
        "print(\"Reporte de clasificación LSTM:\")\n",
        "print(classification_report(y_test, y_pred_lstm, target_names=['Negativo', 'Algo negativo', 'Neutral', 'Algo positivo', 'Positivo']))\n"
      ],
      "metadata": {
        "colab": {
          "base_uri": "https://localhost:8080/"
        },
        "id": "c8J3jQtVzY5w",
        "outputId": "c96988af-d668-4a85-e588-704840e97221"
      },
      "execution_count": 25,
      "outputs": [
        {
          "output_type": "stream",
          "name": "stdout",
          "text": [
            "Reporte de clasificación LSTM:\n",
            "               precision    recall  f1-score   support\n",
            "\n",
            "     Negativo       0.54      0.37      0.44      1414\n",
            "Algo negativo       0.55      0.53      0.54      5455\n",
            "      Neutral       0.74      0.82      0.78     15917\n",
            "Algo positivo       0.58      0.60      0.59      6585\n",
            "     Positivo       0.69      0.26      0.37      1841\n",
            "\n",
            "     accuracy                           0.67     31212\n",
            "    macro avg       0.62      0.51      0.54     31212\n",
            " weighted avg       0.66      0.67      0.66     31212\n",
            "\n"
          ]
        }
      ]
    },
    {
      "cell_type": "code",
      "source": [
        "# Evaluar el modelo GRU\n",
        "print(\"Reporte de clasificación GRU:\")\n",
        "print(classification_report(y_test, y_pred_gru, target_names=['Negativo', 'Algo negativo', 'Neutral', 'Algo positivo', 'Positivo']))\n",
        "\n"
      ],
      "metadata": {
        "colab": {
          "base_uri": "https://localhost:8080/"
        },
        "id": "gasyVFYlza8G",
        "outputId": "f693402c-817f-4ca2-f727-ad2f7603aa33"
      },
      "execution_count": 26,
      "outputs": [
        {
          "output_type": "stream",
          "name": "stdout",
          "text": [
            "Reporte de clasificación GRU:\n",
            "               precision    recall  f1-score   support\n",
            "\n",
            "     Negativo       0.57      0.29      0.38      1414\n",
            "Algo negativo       0.56      0.57      0.57      5455\n",
            "      Neutral       0.74      0.83      0.78     15917\n",
            "Algo positivo       0.60      0.57      0.59      6585\n",
            "     Positivo       0.63      0.37      0.47      1841\n",
            "\n",
            "     accuracy                           0.68     31212\n",
            "    macro avg       0.62      0.52      0.56     31212\n",
            " weighted avg       0.67      0.68      0.67     31212\n",
            "\n"
          ]
        }
      ]
    },
    {
      "cell_type": "code",
      "source": [
        "# Calcular y mostrar el F1-Score ponderado\n",
        "f1_rnn = f1_score(y_test, y_pred_rnn, average='weighted')\n",
        "f1_lstm = f1_score(y_test, y_pred_lstm, average='weighted')\n",
        "f1_gru = f1_score(y_test, y_pred_gru, average='weighted')\n"
      ],
      "metadata": {
        "id": "xWaAJKjYzdBy"
      },
      "execution_count": 27,
      "outputs": []
    },
    {
      "cell_type": "code",
      "source": [
        "print(f\"Puntuación F1 ponderada RNN: {f1_rnn}\")\n",
        "print(f\"Puntuación F1 ponderada LSTM: {f1_lstm}\")\n",
        "print(f\"Puntuación F1 ponderada GRU: {f1_gru}\")"
      ],
      "metadata": {
        "colab": {
          "base_uri": "https://localhost:8080/"
        },
        "id": "94GgekeHzez-",
        "outputId": "6ffcacd7-3824-43bc-b5d9-dfb077dd3f13"
      },
      "execution_count": 28,
      "outputs": [
        {
          "output_type": "stream",
          "name": "stdout",
          "text": [
            "Puntuación F1 ponderada RNN: 0.5522394356416261\n",
            "Puntuación F1 ponderada LSTM: 0.657805986376875\n",
            "Puntuación F1 ponderada GRU: 0.6667231494686312\n"
          ]
        }
      ]
    },
    {
      "cell_type": "markdown",
      "source": [
        "# COCLUSIONES\n",
        "- El modelo RNN fue el que tuvo el desempeño más bajo de los tres. Con un F1-score ponderado de 0.55 y una exactitud del 59%, no logró capturar bien la complejidad de las frases. Esto es algo esperado, ya que las redes RNN simples suelen tener problemas para manejar secuencias largas o complicadas. Tienden a perder información importante a medida que avanzan en la secuencia, lo que afecta su capacidad para clasificar de manera precisa.\n",
        "- El modelo LSTM, en cambio, mostró un avance notable. Con un F1-score de 0.66 y una exactitud del 67%, logró identificar patrones más complejos en el texto. Esto es gracias a su capacidad para \"recordar\" información a largo plazo, algo que lo hace más apto para trabajar con secuencias de texto largas o complicadas. En resumen, el LSTM es mucho mejor que el RNN a la hora de tratar este tipo de datos.\n",
        "\n",
        "- Finalmente, el modelo GRU fue el que obtuvo los mejores resultados. Con un F1-score ponderado de 0.67 y una exactitud del 67%, superó al LSTM por un pequeño margen. Aunque el GRU es más sencillo que el LSTM en cuanto a estructura, tiende a ser más eficiente, lo que en este caso le permitió tener un rendimiento ligeramente superior. Además de ser más rápido, el GRU también demostró ser muy capaz para esta tarea de clasificación."
      ],
      "metadata": {
        "id": "wtnORWvL_y11"
      }
    },
    {
      "cell_type": "markdown",
      "source": [
        "#Comparación  de Resultados de Naive Bayes con los otros modelos\n",
        "Resultados de Naive Bayes laboratorio 2 :\n",
        "- Precisión (accuracy): 0.61\n",
        "- F1-score ponderado: 0.61\n",
        "- Macro F1-score: 0.46\n",
        "\n",
        "\n",
        "- El modelo Naive Bayes supera al modelo RNN tanto en precisión como en el F1-score ponderado. Esto es común, ya que las RNN simples pueden tener dificultades para manejar dependencias largas y capturar información contextual, especialmente con pocos recursos o pocas épocas de entrenamiento\n",
        "- El modelo LSTM supera al modelo Naive Bayes en todas las métricas. Esto es esperable, ya que las LSTM son más potentes para capturar relaciones secuenciales y patrones contextuales complejos en el texto\n",
        "- El modelo GRU también supera al modelo Naive Bayes en todas las métricas, de manera similar al LSTM. A pesar de ser más simple que el LSTM, el GRU logra un rendimiento ligeramente mejor que el Naive Bayes gracias a su capacidad para procesar dependencias secuenciales, pero de una manera más eficiente que las LSTM\n",
        "- Si bien Naive Bayes ofrece una solución rápida y eficiente, LSTM y GRU son más efectivos para tareas donde las dependencias contextuales son importantes, logrando un mejor rendimiento global."
      ],
      "metadata": {
        "id": "z9Uxp8dHJkV3"
      }
    }
  ]
}