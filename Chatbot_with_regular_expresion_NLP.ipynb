{
  "nbformat": 4,
  "nbformat_minor": 0,
  "metadata": {
    "colab": {
      "provenance": []
    },
    "kernelspec": {
      "name": "python3",
      "display_name": "Python 3"
    },
    "language_info": {
      "name": "python"
    }
  },
  "cells": [
    {
      "cell_type": "markdown",
      "source": [
        "# Taller 1 Natural Language Processing\n",
        "-  Edwin Montenegro\n",
        "- Galo Travez\n",
        "\n",
        "\n",
        "---\n",
        "\n"
      ],
      "metadata": {
        "id": "Es4LjdusqdgH"
      }
    },
    {
      "cell_type": "markdown",
      "source": [
        "\n",
        "## Instructions\n",
        "Create a basic chatbot using regular expressions"
      ],
      "metadata": {
        "id": "YgWy1Q-4qvCu"
      }
    },
    {
      "cell_type": "code",
      "source": [
        "# DATA CHATBOT\n",
        "#Next, we try to create a small dialogue in which the chatbot will determine the weather and give you advice about it.\n",
        "# DATA CHATBOT\n",
        "import unicodedata\n",
        "\n",
        "# Function to remove accents from the text\n",
        "def remove_accents(text):\n",
        "    normalized_text = unicodedata.normalize('NFD', text)\n",
        "    return ''.join([c for c in normalized_text if not unicodedata.combining(c)])\n",
        "\n",
        "\n",
        "chatbot_data = {\n",
        "    \"greetings\": {\n",
        "        \"patterns\": [r'\\b(hola|buen(os)? dias|buen(as)? tardes|buen(as)? noches|que tal)\\b'],\n",
        "        \"responses\": [\"¡Hola soy un chatbot enfocado en la predicción del clima! ¿Cómo puedo ayudarte?\"]\n",
        "    },\n",
        "    \"weather\": {\n",
        "        \"patterns\": [\n",
        "            r'\\b(como.*(clima|tiempo|temperatura)|clima|tiempo|temperatura)\\b'\n",
        "        ],\n",
        "        \"responses\": [\n",
        "            \"Hace calor, no olvides usar protector solar.\",\n",
        "\n",
        "        ]\n",
        "    },\n",
        "    \"temperature_query\": {\n",
        "        \"patterns\": [r'\\bgrados\\b'],\n",
        "        \"responses\": [lambda: f\"Actualmente está a {random.randint(25, 35)}°C.\"]  # Response with a random temperature\n",
        "    },\n",
        "    \"farewell\": {\n",
        "        \"patterns\": [r'\\b(gracias|ok|de acuerdo|vale|muy bien)\\b'],\n",
        "        \"responses\": [\"Ha sido un gusto interactuar contigo, ten un buen día.\"]\n",
        "    }\n",
        "}"
      ],
      "metadata": {
        "id": "dJcxFbRktRcS"
      },
      "execution_count": 35,
      "outputs": []
    },
    {
      "cell_type": "code",
      "execution_count": 36,
      "metadata": {
        "colab": {
          "base_uri": "https://localhost:8080/"
        },
        "id": "0R1cJfDJjgZ5",
        "outputId": "4cedebe1-fd5a-477b-8ada-88801ca8d111"
      },
      "outputs": [
        {
          "output_type": "stream",
          "name": "stdout",
          "text": [
            "Tú: hola \n",
            "Chatbot: ¡Hola soy un chatbot enfocado en la predicción del clima! ¿Cómo puedo ayudarte?\n",
            "Tú: me puedes decir el clima en la ciudad de Quito \n",
            "Chatbot: Hace calor, no olvides usar protector solar.\n",
            "Tú: a cuantos grados estamos \n",
            "Chatbot: Actualmente está a 28°C.\n",
            "Tú: gracias \n",
            "Chatbot: Ha sido un gusto interactuar contigo, ten un buen día.\n"
          ]
        }
      ],
      "source": [
        "import re\n",
        "import random\n",
        "\n",
        "\n",
        "# Function to process user input and generate a response\n",
        "def get_response(user_input):\n",
        "    user_input = remove_accents(user_input.lower())  # Convert input to lowercase and remove accents\n",
        "\n",
        "    for category, data in chatbot_data.items():\n",
        "        for pattern in data[\"patterns\"]:\n",
        "            if re.search(pattern, user_input):  # Search for patterns in the user input\n",
        "                if category == \"greetings\":\n",
        "                    return random.choice(data[\"responses\"])\n",
        "                elif category == \"weather\":\n",
        "                    return random.choice(data[\"responses\"])\n",
        "                elif category == \"temperature_query\":  # Check for temperature-related queries\n",
        "                    return data[\"responses\"][0]()  # Return a response with a random temperature\n",
        "                elif category == \"farewell\":\n",
        "                    return data[\"responses\"][0]\n",
        "\n",
        "    return \"Lo siento, no entiendo esa pregunta. ¿Puedes intentarlo de nuevo?\"\n",
        "\n",
        "# Main loop to maintain the conversation\n",
        "while True:\n",
        "    user_input = input(\"Tú: \")\n",
        "    response = get_response(user_input)\n",
        "    print(\"Chatbot:\", response)\n",
        "    if response == \"Ha sido un gusto interactuar contigo, ten un buen día.\":\n",
        "        break\n"
      ]
    },
    {
      "cell_type": "code",
      "source": [
        "# Database chatbot\n",
        "\"\"\"\n",
        "For the following example, a series of dialogues was carried out that could be useful for the application of a chatbot for a university platform,\n",
        " who would be responsible for creating a database of people interested in university careers.\n",
        " \"\"\"\n",
        "\n",
        "\n",
        "chatbot_data = {\n",
        "    \"greetings\": {\n",
        "        \"patterns\": [r'\\b(hola|buen(os|as)? dias|buen(as)? tardes|buen(as)? noches|saludos|que tal|hey|holi)\\b'],\n",
        "        \"response\": \"¡Hola! Bienvenido a UNACH. ¿Cómo puedo ayudarte?\"\n",
        "    },\n",
        "    \"information_request\": {\n",
        "        \"patterns\": [r'\\b(informacion|información|info)\\b'],\n",
        "        \"response\": \"Claro!. Por favor, déjame tu número de contacto (10 dígitos numéricos):\"\n",
        "    },\n",
        "    \"farewell\": {\n",
        "        \"patterns\": [r'\\b(gracias|ok|de acuerdo|vale|muy bien)\\b'],\n",
        "        \"response\": \"Ha sido un gusto interactuar contigo, ten un buen día.\"\n",
        "    }\n",
        "}"
      ],
      "metadata": {
        "id": "Xk8y1Nfk6tB5"
      },
      "execution_count": 13,
      "outputs": []
    },
    {
      "cell_type": "code",
      "source": [
        "import re\n",
        "import unicodedata # Import the 'unicodedata' module to handle Unicode text normalization\n",
        "\n",
        "# Function to remove accents from the text\n",
        "def remove_accents(text):\n",
        "    normalized_text = unicodedata.normalize('NFD', text)\n",
        "    return ''.join([c for c in normalized_text if not unicodedata.combining(c)])\n",
        "\n",
        "# Function to validate a phone number\n",
        "def is_valid_phone_number(phone_number):\n",
        "    pattern = r'\\b\\d{10}\\b'\n",
        "    return bool(re.fullmatch(pattern, phone_number))\n",
        "\n",
        "# Función para procesar la entrada del usuario y generar una respuesta\n",
        "def get_response(user_input):\n",
        "    user_input = remove_accents(user_input.lower())\n",
        "\n",
        "    # Detectar saludo\n",
        "    for pattern in chatbot_data[\"greetings\"][\"patterns\"]:\n",
        "        if re.search(pattern, user_input):\n",
        "            return chatbot_data[\"greetings\"][\"response\"]\n",
        "\n",
        "    # Detect information request\n",
        "    for pattern in chatbot_data[\"information_request\"][\"patterns\"]:\n",
        "        if re.search(pattern, user_input):\n",
        "            return chatbot_data[\"information_request\"][\"response\"]\n",
        "\n",
        "    # Validate phone number\n",
        "    if is_valid_phone_number(user_input):\n",
        "        return \"¡Gracias! Hemos recibido tu número de contacto. Te llamaremos pronto.\"\n",
        "\n",
        "   # Detect farewell\n",
        "    for pattern in chatbot_data[\"farewell\"][\"patterns\"]:\n",
        "        if re.search(pattern, user_input):\n",
        "            return chatbot_data[\"farewell\"][\"response\"]\n",
        "\n",
        "    return \"Lo siento, no entiendo esa pregunta. ¿Puedes intentarlo de nuevo?\"\n",
        "\n",
        "# Loop para mantener la conversación\n",
        "while True:\n",
        "    user_input = input(\"Tú: \")\n",
        "    response = get_response(user_input)\n",
        "    print(\"Chatbot:\", response)\n",
        "    if response == \"Ha sido un gusto interactuar contigo, ten un buen día.\":\n",
        "       break"
      ],
      "metadata": {
        "colab": {
          "base_uri": "https://localhost:8080/"
        },
        "id": "537YT_T36rEh",
        "outputId": "e87da99a-20be-4ac1-d9ba-b85e6492256b"
      },
      "execution_count": 16,
      "outputs": [
        {
          "output_type": "stream",
          "name": "stdout",
          "text": [
            "Tú: hola \n",
            "Chatbot: ¡Hola! Bienvenido a UNACH. ¿Cómo puedo ayudarte?\n",
            "Tú: purdes ayudarme con info de la carrera de medicina \n",
            "Chatbot: Claro!. Por favor, déjame tu número de contacto (10 dígitos numéricos):\n",
            "Tú: 0958724275\n",
            "Chatbot: ¡Gracias! Hemos recibido tu número de contacto. Te llamaremos pronto.\n",
            "Tú: ok \n",
            "Chatbot: Ha sido un gusto interactuar contigo, ten un buen día.\n"
          ]
        }
      ]
    },
    {
      "cell_type": "markdown",
      "source": [
        "## CONCLUSION\n",
        "The use of regular expressions in chatbots is particularly useful for quickly implementing systems that respond to predefined and well-structured queries, offering an efficient way to filter and process natural language in domains where questions can be anticipated and standardized. However, this method is inherently limited by its lack of flexibility and contextual understanding, making it less suitable for applications that require complex interpretations of language."
      ],
      "metadata": {
        "id": "tFj3FMtp_Ymf"
      }
    }
  ]
}