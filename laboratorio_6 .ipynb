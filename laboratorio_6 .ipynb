{
  "nbformat": 4,
  "nbformat_minor": 0,
  "metadata": {
    "colab": {
      "provenance": []
    },
    "kernelspec": {
      "name": "python3",
      "display_name": "Python 3"
    },
    "language_info": {
      "name": "python"
    },
    "widgets": {
      "application/vnd.jupyter.widget-state+json": {
        "517b9ddf294c4e41b50edfa83229d68f": {
          "model_module": "@jupyter-widgets/controls",
          "model_name": "HBoxModel",
          "model_module_version": "1.5.0",
          "state": {
            "_dom_classes": [],
            "_model_module": "@jupyter-widgets/controls",
            "_model_module_version": "1.5.0",
            "_model_name": "HBoxModel",
            "_view_count": null,
            "_view_module": "@jupyter-widgets/controls",
            "_view_module_version": "1.5.0",
            "_view_name": "HBoxView",
            "box_style": "",
            "children": [
              "IPY_MODEL_7f89b03c779e461c8cd7787ec2b4024f",
              "IPY_MODEL_c3142a0963e648219e9bb08499b5e31b",
              "IPY_MODEL_e1c4890cd8df4b96b489f5cfb618f437"
            ],
            "layout": "IPY_MODEL_15f279d52b074836a45409698ff03cd7"
          }
        },
        "7f89b03c779e461c8cd7787ec2b4024f": {
          "model_module": "@jupyter-widgets/controls",
          "model_name": "HTMLModel",
          "model_module_version": "1.5.0",
          "state": {
            "_dom_classes": [],
            "_model_module": "@jupyter-widgets/controls",
            "_model_module_version": "1.5.0",
            "_model_name": "HTMLModel",
            "_view_count": null,
            "_view_module": "@jupyter-widgets/controls",
            "_view_module_version": "1.5.0",
            "_view_name": "HTMLView",
            "description": "",
            "description_tooltip": null,
            "layout": "IPY_MODEL_67ca51fe63d843e19ef0c15853261397",
            "placeholder": "​",
            "style": "IPY_MODEL_b4292b3b2676419eb0893c9a7f069665",
            "value": "Sanity Checking DataLoader 0: 100%"
          }
        },
        "c3142a0963e648219e9bb08499b5e31b": {
          "model_module": "@jupyter-widgets/controls",
          "model_name": "FloatProgressModel",
          "model_module_version": "1.5.0",
          "state": {
            "_dom_classes": [],
            "_model_module": "@jupyter-widgets/controls",
            "_model_module_version": "1.5.0",
            "_model_name": "FloatProgressModel",
            "_view_count": null,
            "_view_module": "@jupyter-widgets/controls",
            "_view_module_version": "1.5.0",
            "_view_name": "ProgressView",
            "bar_style": "",
            "description": "",
            "description_tooltip": null,
            "layout": "IPY_MODEL_e5937a86069c430ba9268ce4bf20b823",
            "max": 2,
            "min": 0,
            "orientation": "horizontal",
            "style": "IPY_MODEL_25bc5536ba7a476c832d009d50c911b1",
            "value": 2
          }
        },
        "e1c4890cd8df4b96b489f5cfb618f437": {
          "model_module": "@jupyter-widgets/controls",
          "model_name": "HTMLModel",
          "model_module_version": "1.5.0",
          "state": {
            "_dom_classes": [],
            "_model_module": "@jupyter-widgets/controls",
            "_model_module_version": "1.5.0",
            "_model_name": "HTMLModel",
            "_view_count": null,
            "_view_module": "@jupyter-widgets/controls",
            "_view_module_version": "1.5.0",
            "_view_name": "HTMLView",
            "description": "",
            "description_tooltip": null,
            "layout": "IPY_MODEL_bab0941a37a74f67b5bb1d5173ca0d37",
            "placeholder": "​",
            "style": "IPY_MODEL_be2d5c99453b4389ba0d9f1e4c48a9b9",
            "value": " 2/2 [00:00&lt;00:00, 19.11it/s]"
          }
        },
        "15f279d52b074836a45409698ff03cd7": {
          "model_module": "@jupyter-widgets/base",
          "model_name": "LayoutModel",
          "model_module_version": "1.2.0",
          "state": {
            "_model_module": "@jupyter-widgets/base",
            "_model_module_version": "1.2.0",
            "_model_name": "LayoutModel",
            "_view_count": null,
            "_view_module": "@jupyter-widgets/base",
            "_view_module_version": "1.2.0",
            "_view_name": "LayoutView",
            "align_content": null,
            "align_items": null,
            "align_self": null,
            "border": null,
            "bottom": null,
            "display": "inline-flex",
            "flex": null,
            "flex_flow": "row wrap",
            "grid_area": null,
            "grid_auto_columns": null,
            "grid_auto_flow": null,
            "grid_auto_rows": null,
            "grid_column": null,
            "grid_gap": null,
            "grid_row": null,
            "grid_template_areas": null,
            "grid_template_columns": null,
            "grid_template_rows": null,
            "height": null,
            "justify_content": null,
            "justify_items": null,
            "left": null,
            "margin": null,
            "max_height": null,
            "max_width": null,
            "min_height": null,
            "min_width": null,
            "object_fit": null,
            "object_position": null,
            "order": null,
            "overflow": null,
            "overflow_x": null,
            "overflow_y": null,
            "padding": null,
            "right": null,
            "top": null,
            "visibility": "hidden",
            "width": "100%"
          }
        },
        "67ca51fe63d843e19ef0c15853261397": {
          "model_module": "@jupyter-widgets/base",
          "model_name": "LayoutModel",
          "model_module_version": "1.2.0",
          "state": {
            "_model_module": "@jupyter-widgets/base",
            "_model_module_version": "1.2.0",
            "_model_name": "LayoutModel",
            "_view_count": null,
            "_view_module": "@jupyter-widgets/base",
            "_view_module_version": "1.2.0",
            "_view_name": "LayoutView",
            "align_content": null,
            "align_items": null,
            "align_self": null,
            "border": null,
            "bottom": null,
            "display": null,
            "flex": null,
            "flex_flow": null,
            "grid_area": null,
            "grid_auto_columns": null,
            "grid_auto_flow": null,
            "grid_auto_rows": null,
            "grid_column": null,
            "grid_gap": null,
            "grid_row": null,
            "grid_template_areas": null,
            "grid_template_columns": null,
            "grid_template_rows": null,
            "height": null,
            "justify_content": null,
            "justify_items": null,
            "left": null,
            "margin": null,
            "max_height": null,
            "max_width": null,
            "min_height": null,
            "min_width": null,
            "object_fit": null,
            "object_position": null,
            "order": null,
            "overflow": null,
            "overflow_x": null,
            "overflow_y": null,
            "padding": null,
            "right": null,
            "top": null,
            "visibility": null,
            "width": null
          }
        },
        "b4292b3b2676419eb0893c9a7f069665": {
          "model_module": "@jupyter-widgets/controls",
          "model_name": "DescriptionStyleModel",
          "model_module_version": "1.5.0",
          "state": {
            "_model_module": "@jupyter-widgets/controls",
            "_model_module_version": "1.5.0",
            "_model_name": "DescriptionStyleModel",
            "_view_count": null,
            "_view_module": "@jupyter-widgets/base",
            "_view_module_version": "1.2.0",
            "_view_name": "StyleView",
            "description_width": ""
          }
        },
        "e5937a86069c430ba9268ce4bf20b823": {
          "model_module": "@jupyter-widgets/base",
          "model_name": "LayoutModel",
          "model_module_version": "1.2.0",
          "state": {
            "_model_module": "@jupyter-widgets/base",
            "_model_module_version": "1.2.0",
            "_model_name": "LayoutModel",
            "_view_count": null,
            "_view_module": "@jupyter-widgets/base",
            "_view_module_version": "1.2.0",
            "_view_name": "LayoutView",
            "align_content": null,
            "align_items": null,
            "align_self": null,
            "border": null,
            "bottom": null,
            "display": null,
            "flex": "2",
            "flex_flow": null,
            "grid_area": null,
            "grid_auto_columns": null,
            "grid_auto_flow": null,
            "grid_auto_rows": null,
            "grid_column": null,
            "grid_gap": null,
            "grid_row": null,
            "grid_template_areas": null,
            "grid_template_columns": null,
            "grid_template_rows": null,
            "height": null,
            "justify_content": null,
            "justify_items": null,
            "left": null,
            "margin": null,
            "max_height": null,
            "max_width": null,
            "min_height": null,
            "min_width": null,
            "object_fit": null,
            "object_position": null,
            "order": null,
            "overflow": null,
            "overflow_x": null,
            "overflow_y": null,
            "padding": null,
            "right": null,
            "top": null,
            "visibility": null,
            "width": null
          }
        },
        "25bc5536ba7a476c832d009d50c911b1": {
          "model_module": "@jupyter-widgets/controls",
          "model_name": "ProgressStyleModel",
          "model_module_version": "1.5.0",
          "state": {
            "_model_module": "@jupyter-widgets/controls",
            "_model_module_version": "1.5.0",
            "_model_name": "ProgressStyleModel",
            "_view_count": null,
            "_view_module": "@jupyter-widgets/base",
            "_view_module_version": "1.2.0",
            "_view_name": "StyleView",
            "bar_color": null,
            "description_width": ""
          }
        },
        "bab0941a37a74f67b5bb1d5173ca0d37": {
          "model_module": "@jupyter-widgets/base",
          "model_name": "LayoutModel",
          "model_module_version": "1.2.0",
          "state": {
            "_model_module": "@jupyter-widgets/base",
            "_model_module_version": "1.2.0",
            "_model_name": "LayoutModel",
            "_view_count": null,
            "_view_module": "@jupyter-widgets/base",
            "_view_module_version": "1.2.0",
            "_view_name": "LayoutView",
            "align_content": null,
            "align_items": null,
            "align_self": null,
            "border": null,
            "bottom": null,
            "display": null,
            "flex": null,
            "flex_flow": null,
            "grid_area": null,
            "grid_auto_columns": null,
            "grid_auto_flow": null,
            "grid_auto_rows": null,
            "grid_column": null,
            "grid_gap": null,
            "grid_row": null,
            "grid_template_areas": null,
            "grid_template_columns": null,
            "grid_template_rows": null,
            "height": null,
            "justify_content": null,
            "justify_items": null,
            "left": null,
            "margin": null,
            "max_height": null,
            "max_width": null,
            "min_height": null,
            "min_width": null,
            "object_fit": null,
            "object_position": null,
            "order": null,
            "overflow": null,
            "overflow_x": null,
            "overflow_y": null,
            "padding": null,
            "right": null,
            "top": null,
            "visibility": null,
            "width": null
          }
        },
        "be2d5c99453b4389ba0d9f1e4c48a9b9": {
          "model_module": "@jupyter-widgets/controls",
          "model_name": "DescriptionStyleModel",
          "model_module_version": "1.5.0",
          "state": {
            "_model_module": "@jupyter-widgets/controls",
            "_model_module_version": "1.5.0",
            "_model_name": "DescriptionStyleModel",
            "_view_count": null,
            "_view_module": "@jupyter-widgets/base",
            "_view_module_version": "1.2.0",
            "_view_name": "StyleView",
            "description_width": ""
          }
        },
        "afbfdf4a67944b10a463b9dadfe8d3be": {
          "model_module": "@jupyter-widgets/controls",
          "model_name": "HBoxModel",
          "model_module_version": "1.5.0",
          "state": {
            "_dom_classes": [],
            "_model_module": "@jupyter-widgets/controls",
            "_model_module_version": "1.5.0",
            "_model_name": "HBoxModel",
            "_view_count": null,
            "_view_module": "@jupyter-widgets/controls",
            "_view_module_version": "1.5.0",
            "_view_name": "HBoxView",
            "box_style": "",
            "children": [
              "IPY_MODEL_cc0b2462f5fd4873ad6d03c39d7f31e0",
              "IPY_MODEL_a883bf09fce2450d8393bfc3209df61e",
              "IPY_MODEL_59f8d9c647e049ccb383d7a9168184d9"
            ],
            "layout": "IPY_MODEL_445fcabcd62c4490b48b582f60bae672"
          }
        },
        "cc0b2462f5fd4873ad6d03c39d7f31e0": {
          "model_module": "@jupyter-widgets/controls",
          "model_name": "HTMLModel",
          "model_module_version": "1.5.0",
          "state": {
            "_dom_classes": [],
            "_model_module": "@jupyter-widgets/controls",
            "_model_module_version": "1.5.0",
            "_model_name": "HTMLModel",
            "_view_count": null,
            "_view_module": "@jupyter-widgets/controls",
            "_view_module_version": "1.5.0",
            "_view_name": "HTMLView",
            "description": "",
            "description_tooltip": null,
            "layout": "IPY_MODEL_5efa48ae3fc04c1f8e2eb61a9f817179",
            "placeholder": "​",
            "style": "IPY_MODEL_5fa98d8036144d99a9bd8cefe98908b0",
            "value": "Epoch 1: 100%"
          }
        },
        "a883bf09fce2450d8393bfc3209df61e": {
          "model_module": "@jupyter-widgets/controls",
          "model_name": "FloatProgressModel",
          "model_module_version": "1.5.0",
          "state": {
            "_dom_classes": [],
            "_model_module": "@jupyter-widgets/controls",
            "_model_module_version": "1.5.0",
            "_model_name": "FloatProgressModel",
            "_view_count": null,
            "_view_module": "@jupyter-widgets/controls",
            "_view_module_version": "1.5.0",
            "_view_name": "ProgressView",
            "bar_style": "success",
            "description": "",
            "description_tooltip": null,
            "layout": "IPY_MODEL_7980ca0edad44edeb05adad088f830eb",
            "max": 4424,
            "min": 0,
            "orientation": "horizontal",
            "style": "IPY_MODEL_122ef624de7e40cfb424ee5c263ac18c",
            "value": 4424
          }
        },
        "59f8d9c647e049ccb383d7a9168184d9": {
          "model_module": "@jupyter-widgets/controls",
          "model_name": "HTMLModel",
          "model_module_version": "1.5.0",
          "state": {
            "_dom_classes": [],
            "_model_module": "@jupyter-widgets/controls",
            "_model_module_version": "1.5.0",
            "_model_name": "HTMLModel",
            "_view_count": null,
            "_view_module": "@jupyter-widgets/controls",
            "_view_module_version": "1.5.0",
            "_view_name": "HTMLView",
            "description": "",
            "description_tooltip": null,
            "layout": "IPY_MODEL_deeac52638e941f3a8871325b4cc618a",
            "placeholder": "​",
            "style": "IPY_MODEL_ede2a17199ad49daa225d9e1adfebd13",
            "value": " 4424/4424 [15:40&lt;00:00,  4.70it/s, v_num=27]"
          }
        },
        "445fcabcd62c4490b48b582f60bae672": {
          "model_module": "@jupyter-widgets/base",
          "model_name": "LayoutModel",
          "model_module_version": "1.2.0",
          "state": {
            "_model_module": "@jupyter-widgets/base",
            "_model_module_version": "1.2.0",
            "_model_name": "LayoutModel",
            "_view_count": null,
            "_view_module": "@jupyter-widgets/base",
            "_view_module_version": "1.2.0",
            "_view_name": "LayoutView",
            "align_content": null,
            "align_items": null,
            "align_self": null,
            "border": null,
            "bottom": null,
            "display": "inline-flex",
            "flex": null,
            "flex_flow": "row wrap",
            "grid_area": null,
            "grid_auto_columns": null,
            "grid_auto_flow": null,
            "grid_auto_rows": null,
            "grid_column": null,
            "grid_gap": null,
            "grid_row": null,
            "grid_template_areas": null,
            "grid_template_columns": null,
            "grid_template_rows": null,
            "height": null,
            "justify_content": null,
            "justify_items": null,
            "left": null,
            "margin": null,
            "max_height": null,
            "max_width": null,
            "min_height": null,
            "min_width": null,
            "object_fit": null,
            "object_position": null,
            "order": null,
            "overflow": null,
            "overflow_x": null,
            "overflow_y": null,
            "padding": null,
            "right": null,
            "top": null,
            "visibility": null,
            "width": "100%"
          }
        },
        "5efa48ae3fc04c1f8e2eb61a9f817179": {
          "model_module": "@jupyter-widgets/base",
          "model_name": "LayoutModel",
          "model_module_version": "1.2.0",
          "state": {
            "_model_module": "@jupyter-widgets/base",
            "_model_module_version": "1.2.0",
            "_model_name": "LayoutModel",
            "_view_count": null,
            "_view_module": "@jupyter-widgets/base",
            "_view_module_version": "1.2.0",
            "_view_name": "LayoutView",
            "align_content": null,
            "align_items": null,
            "align_self": null,
            "border": null,
            "bottom": null,
            "display": null,
            "flex": null,
            "flex_flow": null,
            "grid_area": null,
            "grid_auto_columns": null,
            "grid_auto_flow": null,
            "grid_auto_rows": null,
            "grid_column": null,
            "grid_gap": null,
            "grid_row": null,
            "grid_template_areas": null,
            "grid_template_columns": null,
            "grid_template_rows": null,
            "height": null,
            "justify_content": null,
            "justify_items": null,
            "left": null,
            "margin": null,
            "max_height": null,
            "max_width": null,
            "min_height": null,
            "min_width": null,
            "object_fit": null,
            "object_position": null,
            "order": null,
            "overflow": null,
            "overflow_x": null,
            "overflow_y": null,
            "padding": null,
            "right": null,
            "top": null,
            "visibility": null,
            "width": null
          }
        },
        "5fa98d8036144d99a9bd8cefe98908b0": {
          "model_module": "@jupyter-widgets/controls",
          "model_name": "DescriptionStyleModel",
          "model_module_version": "1.5.0",
          "state": {
            "_model_module": "@jupyter-widgets/controls",
            "_model_module_version": "1.5.0",
            "_model_name": "DescriptionStyleModel",
            "_view_count": null,
            "_view_module": "@jupyter-widgets/base",
            "_view_module_version": "1.2.0",
            "_view_name": "StyleView",
            "description_width": ""
          }
        },
        "7980ca0edad44edeb05adad088f830eb": {
          "model_module": "@jupyter-widgets/base",
          "model_name": "LayoutModel",
          "model_module_version": "1.2.0",
          "state": {
            "_model_module": "@jupyter-widgets/base",
            "_model_module_version": "1.2.0",
            "_model_name": "LayoutModel",
            "_view_count": null,
            "_view_module": "@jupyter-widgets/base",
            "_view_module_version": "1.2.0",
            "_view_name": "LayoutView",
            "align_content": null,
            "align_items": null,
            "align_self": null,
            "border": null,
            "bottom": null,
            "display": null,
            "flex": "2",
            "flex_flow": null,
            "grid_area": null,
            "grid_auto_columns": null,
            "grid_auto_flow": null,
            "grid_auto_rows": null,
            "grid_column": null,
            "grid_gap": null,
            "grid_row": null,
            "grid_template_areas": null,
            "grid_template_columns": null,
            "grid_template_rows": null,
            "height": null,
            "justify_content": null,
            "justify_items": null,
            "left": null,
            "margin": null,
            "max_height": null,
            "max_width": null,
            "min_height": null,
            "min_width": null,
            "object_fit": null,
            "object_position": null,
            "order": null,
            "overflow": null,
            "overflow_x": null,
            "overflow_y": null,
            "padding": null,
            "right": null,
            "top": null,
            "visibility": null,
            "width": null
          }
        },
        "122ef624de7e40cfb424ee5c263ac18c": {
          "model_module": "@jupyter-widgets/controls",
          "model_name": "ProgressStyleModel",
          "model_module_version": "1.5.0",
          "state": {
            "_model_module": "@jupyter-widgets/controls",
            "_model_module_version": "1.5.0",
            "_model_name": "ProgressStyleModel",
            "_view_count": null,
            "_view_module": "@jupyter-widgets/base",
            "_view_module_version": "1.2.0",
            "_view_name": "StyleView",
            "bar_color": null,
            "description_width": ""
          }
        },
        "deeac52638e941f3a8871325b4cc618a": {
          "model_module": "@jupyter-widgets/base",
          "model_name": "LayoutModel",
          "model_module_version": "1.2.0",
          "state": {
            "_model_module": "@jupyter-widgets/base",
            "_model_module_version": "1.2.0",
            "_model_name": "LayoutModel",
            "_view_count": null,
            "_view_module": "@jupyter-widgets/base",
            "_view_module_version": "1.2.0",
            "_view_name": "LayoutView",
            "align_content": null,
            "align_items": null,
            "align_self": null,
            "border": null,
            "bottom": null,
            "display": null,
            "flex": null,
            "flex_flow": null,
            "grid_area": null,
            "grid_auto_columns": null,
            "grid_auto_flow": null,
            "grid_auto_rows": null,
            "grid_column": null,
            "grid_gap": null,
            "grid_row": null,
            "grid_template_areas": null,
            "grid_template_columns": null,
            "grid_template_rows": null,
            "height": null,
            "justify_content": null,
            "justify_items": null,
            "left": null,
            "margin": null,
            "max_height": null,
            "max_width": null,
            "min_height": null,
            "min_width": null,
            "object_fit": null,
            "object_position": null,
            "order": null,
            "overflow": null,
            "overflow_x": null,
            "overflow_y": null,
            "padding": null,
            "right": null,
            "top": null,
            "visibility": null,
            "width": null
          }
        },
        "ede2a17199ad49daa225d9e1adfebd13": {
          "model_module": "@jupyter-widgets/controls",
          "model_name": "DescriptionStyleModel",
          "model_module_version": "1.5.0",
          "state": {
            "_model_module": "@jupyter-widgets/controls",
            "_model_module_version": "1.5.0",
            "_model_name": "DescriptionStyleModel",
            "_view_count": null,
            "_view_module": "@jupyter-widgets/base",
            "_view_module_version": "1.2.0",
            "_view_name": "StyleView",
            "description_width": ""
          }
        },
        "5db1a784f28d482b806110e308c96c6d": {
          "model_module": "@jupyter-widgets/controls",
          "model_name": "HBoxModel",
          "model_module_version": "1.5.0",
          "state": {
            "_dom_classes": [],
            "_model_module": "@jupyter-widgets/controls",
            "_model_module_version": "1.5.0",
            "_model_name": "HBoxModel",
            "_view_count": null,
            "_view_module": "@jupyter-widgets/controls",
            "_view_module_version": "1.5.0",
            "_view_name": "HBoxView",
            "box_style": "",
            "children": [
              "IPY_MODEL_e6f84e03681949fab2e1cbf994599d88",
              "IPY_MODEL_5f9a5a89e5c648d783ba3c3981799567",
              "IPY_MODEL_76488f7042d14d7d8b9ec1307a164a19"
            ],
            "layout": "IPY_MODEL_55aaf102815b41488bdad616cd4f6d85"
          }
        },
        "e6f84e03681949fab2e1cbf994599d88": {
          "model_module": "@jupyter-widgets/controls",
          "model_name": "HTMLModel",
          "model_module_version": "1.5.0",
          "state": {
            "_dom_classes": [],
            "_model_module": "@jupyter-widgets/controls",
            "_model_module_version": "1.5.0",
            "_model_name": "HTMLModel",
            "_view_count": null,
            "_view_module": "@jupyter-widgets/controls",
            "_view_module_version": "1.5.0",
            "_view_name": "HTMLView",
            "description": "",
            "description_tooltip": null,
            "layout": "IPY_MODEL_a6840957cb75491396e401edd9246a84",
            "placeholder": "​",
            "style": "IPY_MODEL_e6589b7bc9ae45e5929c0921f44b95d8",
            "value": "Validation DataLoader 0: 100%"
          }
        },
        "5f9a5a89e5c648d783ba3c3981799567": {
          "model_module": "@jupyter-widgets/controls",
          "model_name": "FloatProgressModel",
          "model_module_version": "1.5.0",
          "state": {
            "_dom_classes": [],
            "_model_module": "@jupyter-widgets/controls",
            "_model_module_version": "1.5.0",
            "_model_name": "FloatProgressModel",
            "_view_count": null,
            "_view_module": "@jupyter-widgets/controls",
            "_view_module_version": "1.5.0",
            "_view_name": "ProgressView",
            "bar_style": "",
            "description": "",
            "description_tooltip": null,
            "layout": "IPY_MODEL_8a2d3d50ec5b4834b9bf37fe9de893c4",
            "max": 4424,
            "min": 0,
            "orientation": "horizontal",
            "style": "IPY_MODEL_81b0eb8cd3154276b7f3c3ce77fd94be",
            "value": 4424
          }
        },
        "76488f7042d14d7d8b9ec1307a164a19": {
          "model_module": "@jupyter-widgets/controls",
          "model_name": "HTMLModel",
          "model_module_version": "1.5.0",
          "state": {
            "_dom_classes": [],
            "_model_module": "@jupyter-widgets/controls",
            "_model_module_version": "1.5.0",
            "_model_name": "HTMLModel",
            "_view_count": null,
            "_view_module": "@jupyter-widgets/controls",
            "_view_module_version": "1.5.0",
            "_view_name": "HTMLView",
            "description": "",
            "description_tooltip": null,
            "layout": "IPY_MODEL_60c0f9b4eea84949a2947ab86abe36ab",
            "placeholder": "​",
            "style": "IPY_MODEL_91a9eb56177941a588c3b117f3dd97b8",
            "value": " 4424/4424 [03:20&lt;00:00, 22.12it/s]"
          }
        },
        "55aaf102815b41488bdad616cd4f6d85": {
          "model_module": "@jupyter-widgets/base",
          "model_name": "LayoutModel",
          "model_module_version": "1.2.0",
          "state": {
            "_model_module": "@jupyter-widgets/base",
            "_model_module_version": "1.2.0",
            "_model_name": "LayoutModel",
            "_view_count": null,
            "_view_module": "@jupyter-widgets/base",
            "_view_module_version": "1.2.0",
            "_view_name": "LayoutView",
            "align_content": null,
            "align_items": null,
            "align_self": null,
            "border": null,
            "bottom": null,
            "display": "inline-flex",
            "flex": null,
            "flex_flow": "row wrap",
            "grid_area": null,
            "grid_auto_columns": null,
            "grid_auto_flow": null,
            "grid_auto_rows": null,
            "grid_column": null,
            "grid_gap": null,
            "grid_row": null,
            "grid_template_areas": null,
            "grid_template_columns": null,
            "grid_template_rows": null,
            "height": null,
            "justify_content": null,
            "justify_items": null,
            "left": null,
            "margin": null,
            "max_height": null,
            "max_width": null,
            "min_height": null,
            "min_width": null,
            "object_fit": null,
            "object_position": null,
            "order": null,
            "overflow": null,
            "overflow_x": null,
            "overflow_y": null,
            "padding": null,
            "right": null,
            "top": null,
            "visibility": "hidden",
            "width": "100%"
          }
        },
        "a6840957cb75491396e401edd9246a84": {
          "model_module": "@jupyter-widgets/base",
          "model_name": "LayoutModel",
          "model_module_version": "1.2.0",
          "state": {
            "_model_module": "@jupyter-widgets/base",
            "_model_module_version": "1.2.0",
            "_model_name": "LayoutModel",
            "_view_count": null,
            "_view_module": "@jupyter-widgets/base",
            "_view_module_version": "1.2.0",
            "_view_name": "LayoutView",
            "align_content": null,
            "align_items": null,
            "align_self": null,
            "border": null,
            "bottom": null,
            "display": null,
            "flex": null,
            "flex_flow": null,
            "grid_area": null,
            "grid_auto_columns": null,
            "grid_auto_flow": null,
            "grid_auto_rows": null,
            "grid_column": null,
            "grid_gap": null,
            "grid_row": null,
            "grid_template_areas": null,
            "grid_template_columns": null,
            "grid_template_rows": null,
            "height": null,
            "justify_content": null,
            "justify_items": null,
            "left": null,
            "margin": null,
            "max_height": null,
            "max_width": null,
            "min_height": null,
            "min_width": null,
            "object_fit": null,
            "object_position": null,
            "order": null,
            "overflow": null,
            "overflow_x": null,
            "overflow_y": null,
            "padding": null,
            "right": null,
            "top": null,
            "visibility": null,
            "width": null
          }
        },
        "e6589b7bc9ae45e5929c0921f44b95d8": {
          "model_module": "@jupyter-widgets/controls",
          "model_name": "DescriptionStyleModel",
          "model_module_version": "1.5.0",
          "state": {
            "_model_module": "@jupyter-widgets/controls",
            "_model_module_version": "1.5.0",
            "_model_name": "DescriptionStyleModel",
            "_view_count": null,
            "_view_module": "@jupyter-widgets/base",
            "_view_module_version": "1.2.0",
            "_view_name": "StyleView",
            "description_width": ""
          }
        },
        "8a2d3d50ec5b4834b9bf37fe9de893c4": {
          "model_module": "@jupyter-widgets/base",
          "model_name": "LayoutModel",
          "model_module_version": "1.2.0",
          "state": {
            "_model_module": "@jupyter-widgets/base",
            "_model_module_version": "1.2.0",
            "_model_name": "LayoutModel",
            "_view_count": null,
            "_view_module": "@jupyter-widgets/base",
            "_view_module_version": "1.2.0",
            "_view_name": "LayoutView",
            "align_content": null,
            "align_items": null,
            "align_self": null,
            "border": null,
            "bottom": null,
            "display": null,
            "flex": "2",
            "flex_flow": null,
            "grid_area": null,
            "grid_auto_columns": null,
            "grid_auto_flow": null,
            "grid_auto_rows": null,
            "grid_column": null,
            "grid_gap": null,
            "grid_row": null,
            "grid_template_areas": null,
            "grid_template_columns": null,
            "grid_template_rows": null,
            "height": null,
            "justify_content": null,
            "justify_items": null,
            "left": null,
            "margin": null,
            "max_height": null,
            "max_width": null,
            "min_height": null,
            "min_width": null,
            "object_fit": null,
            "object_position": null,
            "order": null,
            "overflow": null,
            "overflow_x": null,
            "overflow_y": null,
            "padding": null,
            "right": null,
            "top": null,
            "visibility": null,
            "width": null
          }
        },
        "81b0eb8cd3154276b7f3c3ce77fd94be": {
          "model_module": "@jupyter-widgets/controls",
          "model_name": "ProgressStyleModel",
          "model_module_version": "1.5.0",
          "state": {
            "_model_module": "@jupyter-widgets/controls",
            "_model_module_version": "1.5.0",
            "_model_name": "ProgressStyleModel",
            "_view_count": null,
            "_view_module": "@jupyter-widgets/base",
            "_view_module_version": "1.2.0",
            "_view_name": "StyleView",
            "bar_color": null,
            "description_width": ""
          }
        },
        "60c0f9b4eea84949a2947ab86abe36ab": {
          "model_module": "@jupyter-widgets/base",
          "model_name": "LayoutModel",
          "model_module_version": "1.2.0",
          "state": {
            "_model_module": "@jupyter-widgets/base",
            "_model_module_version": "1.2.0",
            "_model_name": "LayoutModel",
            "_view_count": null,
            "_view_module": "@jupyter-widgets/base",
            "_view_module_version": "1.2.0",
            "_view_name": "LayoutView",
            "align_content": null,
            "align_items": null,
            "align_self": null,
            "border": null,
            "bottom": null,
            "display": null,
            "flex": null,
            "flex_flow": null,
            "grid_area": null,
            "grid_auto_columns": null,
            "grid_auto_flow": null,
            "grid_auto_rows": null,
            "grid_column": null,
            "grid_gap": null,
            "grid_row": null,
            "grid_template_areas": null,
            "grid_template_columns": null,
            "grid_template_rows": null,
            "height": null,
            "justify_content": null,
            "justify_items": null,
            "left": null,
            "margin": null,
            "max_height": null,
            "max_width": null,
            "min_height": null,
            "min_width": null,
            "object_fit": null,
            "object_position": null,
            "order": null,
            "overflow": null,
            "overflow_x": null,
            "overflow_y": null,
            "padding": null,
            "right": null,
            "top": null,
            "visibility": null,
            "width": null
          }
        },
        "91a9eb56177941a588c3b117f3dd97b8": {
          "model_module": "@jupyter-widgets/controls",
          "model_name": "DescriptionStyleModel",
          "model_module_version": "1.5.0",
          "state": {
            "_model_module": "@jupyter-widgets/controls",
            "_model_module_version": "1.5.0",
            "_model_name": "DescriptionStyleModel",
            "_view_count": null,
            "_view_module": "@jupyter-widgets/base",
            "_view_module_version": "1.2.0",
            "_view_name": "StyleView",
            "description_width": ""
          }
        },
        "9f7f67426856458b94889905c8ae0649": {
          "model_module": "@jupyter-widgets/controls",
          "model_name": "HBoxModel",
          "model_module_version": "1.5.0",
          "state": {
            "_dom_classes": [],
            "_model_module": "@jupyter-widgets/controls",
            "_model_module_version": "1.5.0",
            "_model_name": "HBoxModel",
            "_view_count": null,
            "_view_module": "@jupyter-widgets/controls",
            "_view_module_version": "1.5.0",
            "_view_name": "HBoxView",
            "box_style": "",
            "children": [
              "IPY_MODEL_b527916d908f42a7a9bda17083b71aab",
              "IPY_MODEL_269235b91b044b358caf846d7a5f4aaa",
              "IPY_MODEL_976fefd707a44a2b87f5ec1e9e8f2498"
            ],
            "layout": "IPY_MODEL_c66efa459be14cabb3286cf6413938d4"
          }
        },
        "b527916d908f42a7a9bda17083b71aab": {
          "model_module": "@jupyter-widgets/controls",
          "model_name": "HTMLModel",
          "model_module_version": "1.5.0",
          "state": {
            "_dom_classes": [],
            "_model_module": "@jupyter-widgets/controls",
            "_model_module_version": "1.5.0",
            "_model_name": "HTMLModel",
            "_view_count": null,
            "_view_module": "@jupyter-widgets/controls",
            "_view_module_version": "1.5.0",
            "_view_name": "HTMLView",
            "description": "",
            "description_tooltip": null,
            "layout": "IPY_MODEL_ddc4c17b080243858914c8c27d6b80d1",
            "placeholder": "​",
            "style": "IPY_MODEL_ef2fe899715a467bad18c04b46c2e5f8",
            "value": "Validation DataLoader 0: 100%"
          }
        },
        "269235b91b044b358caf846d7a5f4aaa": {
          "model_module": "@jupyter-widgets/controls",
          "model_name": "FloatProgressModel",
          "model_module_version": "1.5.0",
          "state": {
            "_dom_classes": [],
            "_model_module": "@jupyter-widgets/controls",
            "_model_module_version": "1.5.0",
            "_model_name": "FloatProgressModel",
            "_view_count": null,
            "_view_module": "@jupyter-widgets/controls",
            "_view_module_version": "1.5.0",
            "_view_name": "ProgressView",
            "bar_style": "",
            "description": "",
            "description_tooltip": null,
            "layout": "IPY_MODEL_3f559a92e1ad442f95b82e4ebef6c917",
            "max": 4424,
            "min": 0,
            "orientation": "horizontal",
            "style": "IPY_MODEL_bd5b2de88cb1497088ff5c2c7967fda1",
            "value": 4424
          }
        },
        "976fefd707a44a2b87f5ec1e9e8f2498": {
          "model_module": "@jupyter-widgets/controls",
          "model_name": "HTMLModel",
          "model_module_version": "1.5.0",
          "state": {
            "_dom_classes": [],
            "_model_module": "@jupyter-widgets/controls",
            "_model_module_version": "1.5.0",
            "_model_name": "HTMLModel",
            "_view_count": null,
            "_view_module": "@jupyter-widgets/controls",
            "_view_module_version": "1.5.0",
            "_view_name": "HTMLView",
            "description": "",
            "description_tooltip": null,
            "layout": "IPY_MODEL_971d893ad9944559ad04d4f2f1a24a1e",
            "placeholder": "​",
            "style": "IPY_MODEL_da878a405b874f11901de6f9a90d797a",
            "value": " 4424/4424 [04:11&lt;00:00, 17.60it/s]"
          }
        },
        "c66efa459be14cabb3286cf6413938d4": {
          "model_module": "@jupyter-widgets/base",
          "model_name": "LayoutModel",
          "model_module_version": "1.2.0",
          "state": {
            "_model_module": "@jupyter-widgets/base",
            "_model_module_version": "1.2.0",
            "_model_name": "LayoutModel",
            "_view_count": null,
            "_view_module": "@jupyter-widgets/base",
            "_view_module_version": "1.2.0",
            "_view_name": "LayoutView",
            "align_content": null,
            "align_items": null,
            "align_self": null,
            "border": null,
            "bottom": null,
            "display": "inline-flex",
            "flex": null,
            "flex_flow": "row wrap",
            "grid_area": null,
            "grid_auto_columns": null,
            "grid_auto_flow": null,
            "grid_auto_rows": null,
            "grid_column": null,
            "grid_gap": null,
            "grid_row": null,
            "grid_template_areas": null,
            "grid_template_columns": null,
            "grid_template_rows": null,
            "height": null,
            "justify_content": null,
            "justify_items": null,
            "left": null,
            "margin": null,
            "max_height": null,
            "max_width": null,
            "min_height": null,
            "min_width": null,
            "object_fit": null,
            "object_position": null,
            "order": null,
            "overflow": null,
            "overflow_x": null,
            "overflow_y": null,
            "padding": null,
            "right": null,
            "top": null,
            "visibility": "hidden",
            "width": "100%"
          }
        },
        "ddc4c17b080243858914c8c27d6b80d1": {
          "model_module": "@jupyter-widgets/base",
          "model_name": "LayoutModel",
          "model_module_version": "1.2.0",
          "state": {
            "_model_module": "@jupyter-widgets/base",
            "_model_module_version": "1.2.0",
            "_model_name": "LayoutModel",
            "_view_count": null,
            "_view_module": "@jupyter-widgets/base",
            "_view_module_version": "1.2.0",
            "_view_name": "LayoutView",
            "align_content": null,
            "align_items": null,
            "align_self": null,
            "border": null,
            "bottom": null,
            "display": null,
            "flex": null,
            "flex_flow": null,
            "grid_area": null,
            "grid_auto_columns": null,
            "grid_auto_flow": null,
            "grid_auto_rows": null,
            "grid_column": null,
            "grid_gap": null,
            "grid_row": null,
            "grid_template_areas": null,
            "grid_template_columns": null,
            "grid_template_rows": null,
            "height": null,
            "justify_content": null,
            "justify_items": null,
            "left": null,
            "margin": null,
            "max_height": null,
            "max_width": null,
            "min_height": null,
            "min_width": null,
            "object_fit": null,
            "object_position": null,
            "order": null,
            "overflow": null,
            "overflow_x": null,
            "overflow_y": null,
            "padding": null,
            "right": null,
            "top": null,
            "visibility": null,
            "width": null
          }
        },
        "ef2fe899715a467bad18c04b46c2e5f8": {
          "model_module": "@jupyter-widgets/controls",
          "model_name": "DescriptionStyleModel",
          "model_module_version": "1.5.0",
          "state": {
            "_model_module": "@jupyter-widgets/controls",
            "_model_module_version": "1.5.0",
            "_model_name": "DescriptionStyleModel",
            "_view_count": null,
            "_view_module": "@jupyter-widgets/base",
            "_view_module_version": "1.2.0",
            "_view_name": "StyleView",
            "description_width": ""
          }
        },
        "3f559a92e1ad442f95b82e4ebef6c917": {
          "model_module": "@jupyter-widgets/base",
          "model_name": "LayoutModel",
          "model_module_version": "1.2.0",
          "state": {
            "_model_module": "@jupyter-widgets/base",
            "_model_module_version": "1.2.0",
            "_model_name": "LayoutModel",
            "_view_count": null,
            "_view_module": "@jupyter-widgets/base",
            "_view_module_version": "1.2.0",
            "_view_name": "LayoutView",
            "align_content": null,
            "align_items": null,
            "align_self": null,
            "border": null,
            "bottom": null,
            "display": null,
            "flex": "2",
            "flex_flow": null,
            "grid_area": null,
            "grid_auto_columns": null,
            "grid_auto_flow": null,
            "grid_auto_rows": null,
            "grid_column": null,
            "grid_gap": null,
            "grid_row": null,
            "grid_template_areas": null,
            "grid_template_columns": null,
            "grid_template_rows": null,
            "height": null,
            "justify_content": null,
            "justify_items": null,
            "left": null,
            "margin": null,
            "max_height": null,
            "max_width": null,
            "min_height": null,
            "min_width": null,
            "object_fit": null,
            "object_position": null,
            "order": null,
            "overflow": null,
            "overflow_x": null,
            "overflow_y": null,
            "padding": null,
            "right": null,
            "top": null,
            "visibility": null,
            "width": null
          }
        },
        "bd5b2de88cb1497088ff5c2c7967fda1": {
          "model_module": "@jupyter-widgets/controls",
          "model_name": "ProgressStyleModel",
          "model_module_version": "1.5.0",
          "state": {
            "_model_module": "@jupyter-widgets/controls",
            "_model_module_version": "1.5.0",
            "_model_name": "ProgressStyleModel",
            "_view_count": null,
            "_view_module": "@jupyter-widgets/base",
            "_view_module_version": "1.2.0",
            "_view_name": "StyleView",
            "bar_color": null,
            "description_width": ""
          }
        },
        "971d893ad9944559ad04d4f2f1a24a1e": {
          "model_module": "@jupyter-widgets/base",
          "model_name": "LayoutModel",
          "model_module_version": "1.2.0",
          "state": {
            "_model_module": "@jupyter-widgets/base",
            "_model_module_version": "1.2.0",
            "_model_name": "LayoutModel",
            "_view_count": null,
            "_view_module": "@jupyter-widgets/base",
            "_view_module_version": "1.2.0",
            "_view_name": "LayoutView",
            "align_content": null,
            "align_items": null,
            "align_self": null,
            "border": null,
            "bottom": null,
            "display": null,
            "flex": null,
            "flex_flow": null,
            "grid_area": null,
            "grid_auto_columns": null,
            "grid_auto_flow": null,
            "grid_auto_rows": null,
            "grid_column": null,
            "grid_gap": null,
            "grid_row": null,
            "grid_template_areas": null,
            "grid_template_columns": null,
            "grid_template_rows": null,
            "height": null,
            "justify_content": null,
            "justify_items": null,
            "left": null,
            "margin": null,
            "max_height": null,
            "max_width": null,
            "min_height": null,
            "min_width": null,
            "object_fit": null,
            "object_position": null,
            "order": null,
            "overflow": null,
            "overflow_x": null,
            "overflow_y": null,
            "padding": null,
            "right": null,
            "top": null,
            "visibility": null,
            "width": null
          }
        },
        "da878a405b874f11901de6f9a90d797a": {
          "model_module": "@jupyter-widgets/controls",
          "model_name": "DescriptionStyleModel",
          "model_module_version": "1.5.0",
          "state": {
            "_model_module": "@jupyter-widgets/controls",
            "_model_module_version": "1.5.0",
            "_model_name": "DescriptionStyleModel",
            "_view_count": null,
            "_view_module": "@jupyter-widgets/base",
            "_view_module_version": "1.2.0",
            "_view_name": "StyleView",
            "description_width": ""
          }
        }
      }
    }
  },
  "cells": [
    {
      "cell_type": "markdown",
      "source": [
        "# MAESTRIA INTELIGENCIA ARTIFICIAL\n",
        "\n",
        "\n",
        "---\n",
        "\n"
      ],
      "metadata": {
        "id": "FCKYd_UXQvRR"
      }
    },
    {
      "cell_type": "markdown",
      "source": [
        "# LABORATORIO 6"
      ],
      "metadata": {
        "id": "oashNsAtQ4PM"
      }
    },
    {
      "cell_type": "markdown",
      "source": [
        "INTEGRANTES:\n",
        "\n",
        "- Edwin Montenegro\n",
        "- Galo Travez"
      ],
      "metadata": {
        "id": "jXGqqkwtQegJ"
      }
    },
    {
      "cell_type": "markdown",
      "source": [
        "El objetivo de este taller es construir un modelo Transformer de traducción automática de español a inglés, utilizando PyTorch Lightning para estructurar el código de manera modular y eficiente. El taller también explora el uso de modelos preentrenados, como el MarianMTModel de Hugging Face, para comparar la creación de modelos de traducción desde cero frente a la utilización de modelos preentrenados."
      ],
      "metadata": {
        "id": "cr4j5eXRWBk5"
      }
    },
    {
      "cell_type": "markdown",
      "source": [
        "# Cargar el dataset desde el archivo .txt"
      ],
      "metadata": {
        "id": "ZkFZQq5RQ7Am"
      }
    },
    {
      "cell_type": "code",
      "source": [
        "import pandas as pd\n",
        "from transformers import BertTokenizer\n",
        "\n",
        "# Cargar el dataset desde el archivo .txt\n",
        "def load_dataset(filepath):\n",
        "    with open(filepath, 'r', encoding='utf-8') as file:\n",
        "        lines = file.readlines()\n",
        "\n",
        "    # Procesar cada línea para obtener las frases en inglés y español\n",
        "    data = []\n",
        "    for line in lines:\n",
        "        parts = line.strip().split('\\t')\n",
        "        if len(parts) >= 2:\n",
        "            eng_sentence = parts[0]  # Frase en inglés\n",
        "            spa_sentence = parts[1]  # Frase en español\n",
        "            data.append((eng_sentence, spa_sentence))\n",
        "\n",
        "    return pd.DataFrame(data, columns=[\"english\", \"spanish\"])\n",
        "\n",
        "# Cargar el dataset\n",
        "dataset = load_dataset('/home/emontenegrob/Labs_NLP/data/spa.txt')\n",
        "\n",
        "# Mostrar las primeras filas del dataset\n",
        "print(dataset.head())"
      ],
      "metadata": {
        "colab": {
          "base_uri": "https://localhost:8080/"
        },
        "id": "vCNgsKSg8tuU",
        "outputId": "279d2c5d-c419-4157-da01-9fbec52d4c9c"
      },
      "execution_count": 25,
      "outputs": [
        {
          "output_type": "stream",
          "name": "stdout",
          "text": [
            "  english  spanish\n",
            "0     Go.      Ve.\n",
            "1     Go.    Vete.\n",
            "2     Go.    Vaya.\n",
            "3     Go.  Váyase.\n",
            "4     Hi.    Hola.\n"
          ]
        }
      ]
    },
    {
      "cell_type": "markdown",
      "source": [
        "# Cargar tokenizadores"
      ],
      "metadata": {
        "id": "u87RCtxMQ8YW"
      }
    },
    {
      "cell_type": "code",
      "source": [
        "# Cargar tokenizadores\n",
        "tokenizer_src = BertTokenizer.from_pretrained(\"bert-base-uncased\")  # Para inglés\n",
        "tokenizer_tgt = BertTokenizer.from_pretrained(\"dccuchile/bert-base-spanish-wwm-uncased\")  # Para español\n",
        "\n",
        "# Tokenizar las frases\n",
        "def tokenize_sentences(tokenizer, sentences, max_length):\n",
        "    return tokenizer(sentences, padding=True, truncation=True, max_length=max_length, return_tensors=\"pt\")\n",
        "\n",
        "max_seq_length = 128\n",
        "english_tokenized = tokenize_sentences(tokenizer_src, dataset[\"english\"].tolist(), max_seq_length)\n",
        "spanish_tokenized = tokenize_sentences(tokenizer_tgt, dataset[\"spanish\"].tolist(), max_seq_length)"
      ],
      "metadata": {
        "id": "nOXCMZjt869S"
      },
      "execution_count": 27,
      "outputs": []
    },
    {
      "cell_type": "markdown",
      "source": [
        "# MODELO TRANSFORMER"
      ],
      "metadata": {
        "id": "wRMNaPhqQ-PX"
      }
    },
    {
      "cell_type": "markdown",
      "source": [
        "En nuestro código, usamos la capa `nn.Transformer`, que internamente usa multi-head attention. Esto permite que el modelo se enfoque en diferentes partes de la secuencia de entrada al mismo tiempo, lo cual es crucial para la traducción\n",
        "\n",
        "Positional Encoding:\n",
        "\n",
        "En el tutorial, se explica la importancia de las codificaciones posicionales, ya que los Transformers no tienen un orden secuencial por naturaleza. Hemos implementado esto con un tensor que contiene la información posicional:\n",
        "`self.positional_encoding = nn.Parameter(torch.zeros(1, 1000, d_model))  # Positional Encoding`"
      ],
      "metadata": {
        "id": "V_muVRemXrL6"
      }
    },
    {
      "cell_type": "code",
      "source": [
        "import torch\n",
        "import torch.nn as nn\n",
        "import pytorch_lightning as pl\n",
        "import torch.optim as optim\n",
        "\n",
        "class TranslationTransformer(pl.LightningModule):\n",
        "    def __init__(self, src_vocab_size, tgt_vocab_size, d_model, num_heads, num_encoder_layers, num_decoder_layers, dim_feedforward, dropout):\n",
        "        super(TranslationTransformer, self).__init__()\n",
        "        self.d_model = d_model\n",
        "        self.src_embedding = nn.Embedding(src_vocab_size, d_model)\n",
        "        self.tgt_embedding = nn.Embedding(tgt_vocab_size, d_model)\n",
        "        self.positional_encoding = nn.Parameter(torch.zeros(1, 1000, d_model))  # Positional Encoding\n",
        "\n",
        "        # Configurar batch_first=True para el Transformer\n",
        "        self.transformer = nn.Transformer(d_model=d_model, nhead=num_heads, num_encoder_layers=num_encoder_layers,\n",
        "                                          num_decoder_layers=num_decoder_layers, dim_feedforward=dim_feedforward, dropout=dropout, batch_first=True)\n",
        "        self.fc_out = nn.Linear(d_model, tgt_vocab_size)\n",
        "\n",
        "    def forward(self, src, tgt, src_mask=None, tgt_mask=None):\n",
        "        # Mover src y tgt al mismo dispositivo del modelo\n",
        "        src = src.to(self.device)\n",
        "        tgt = tgt.to(self.device)\n",
        "\n",
        "        # Mover máscaras al dispositivo adecuado si existen\n",
        "        if src_mask is not None:\n",
        "            src_mask = src_mask.to(self.device)\n",
        "        if tgt_mask is not None:\n",
        "            tgt_mask = tgt_mask.to(self.device)\n",
        "\n",
        "        # src y tgt son [batch_size, seq_length]\n",
        "        src = self.src_embedding(src) * torch.sqrt(torch.tensor(self.d_model, dtype=torch.float32)).to(self.device)\n",
        "        tgt = self.tgt_embedding(tgt) * torch.sqrt(torch.tensor(self.d_model, dtype=torch.float32)).to(self.device)\n",
        "\n",
        "        # Añadir la codificación posicional\n",
        "        src = src + self.positional_encoding[:, :src.size(1), :].to(self.device)\n",
        "        tgt = tgt + self.positional_encoding[:, :tgt.size(1), :].to(self.device)\n",
        "\n",
        "        # Pasar por el Transformer\n",
        "        output = self.transformer(src, tgt, src_mask, tgt_mask)\n",
        "\n",
        "        # Proyección a vocabulario de destino\n",
        "        output = self.fc_out(output)\n",
        "        return output\n",
        "\n",
        "    def configure_optimizers(self):\n",
        "        optimizer = optim.Adam(self.parameters(), lr=0.0001)\n",
        "        return optimizer\n",
        "\n",
        "    def training_step(self, batch, batch_idx):\n",
        "        src, tgt_input, tgt_output = batch\n",
        "\n",
        "        # Crear máscaras para evitar que el modelo vea el futuro (auto-regresivo)\n",
        "        src_mask = self.generate_square_subsequent_mask(src.size(1))\n",
        "        tgt_mask = self.generate_square_subsequent_mask(tgt_input.size(1))\n",
        "\n",
        "        # Asegurarse de que las máscaras también estén en la GPU\n",
        "        src_mask = src_mask.to(self.device)\n",
        "        tgt_mask = tgt_mask.to(self.device)\n",
        "\n",
        "        # Obtener las predicciones del Transformer\n",
        "        outputs = self(src, tgt_input, src_mask, tgt_mask)\n",
        "        loss = nn.CrossEntropyLoss()(outputs.view(-1, outputs.size(-1)), tgt_output.view(-1))\n",
        "        self.log('train_loss', loss)\n",
        "        return loss\n",
        "\n",
        "    def generate_square_subsequent_mask(self, size):\n",
        "        \"\"\"Genera una máscara para evitar que el Transformer vea el futuro en la secuencia\"\"\"\n",
        "        mask = torch.triu(torch.ones(size, size) * float('-inf'), diagonal=1)\n",
        "        return mask\n",
        "\n",
        "    def validation_step(self, batch, batch_idx):\n",
        "        src, tgt_input, tgt_output = batch\n",
        "        src_mask = self.generate_square_subsequent_mask(src.size(1)).to(self.device)\n",
        "        tgt_mask = self.generate_square_subsequent_mask(tgt_input.size(1)).to(self.device)\n",
        "        outputs = self(src, tgt_input, src_mask, tgt_mask)\n",
        "        loss = nn.CrossEntropyLoss()(outputs.view(-1, outputs.size(-1)), tgt_output.view(-1))\n",
        "        self.log('val_loss', loss)\n",
        "        return loss\n"
      ],
      "metadata": {
        "id": "Fs05jJsp_GAu"
      },
      "execution_count": 31,
      "outputs": []
    },
    {
      "cell_type": "code",
      "source": [
        "from torch.utils.data import Dataset, DataLoader\n",
        "\n",
        "class TranslationDataset(Dataset):\n",
        "    def __init__(self, src_tokenized, tgt_tokenized):\n",
        "        self.src_tokenized = src_tokenized\n",
        "        self.tgt_tokenized = tgt_tokenized\n",
        "\n",
        "    def __len__(self):\n",
        "        return len(self.src_tokenized[\"input_ids\"])\n",
        "\n",
        "    def __getitem__(self, idx):\n",
        "        src = self.src_tokenized[\"input_ids\"][idx]\n",
        "        tgt_input = self.tgt_tokenized[\"input_ids\"][idx][:-1]  # Entrada al decodificador\n",
        "        tgt_output = self.tgt_tokenized[\"input_ids\"][idx][1:]  # Salida esperada del decodificador\n",
        "        return src, tgt_input, tgt_output\n",
        "\n",
        "class TranslationDataModule(pl.LightningDataModule):\n",
        "    def __init__(self, english_tokenized, spanish_tokenized, batch_size):\n",
        "        super().__init__()\n",
        "        self.batch_size = batch_size\n",
        "        self.train_dataset = TranslationDataset(english_tokenized, spanish_tokenized)\n",
        "\n",
        "    def train_dataloader(self):\n",
        "        return DataLoader(self.train_dataset, batch_size=self.batch_size, shuffle=True)\n",
        "\n",
        "    def val_dataloader(self):\n",
        "        return DataLoader(self.train_dataset, batch_size=self.batch_size)\n",
        "\n"
      ],
      "metadata": {
        "id": "ymfdOZNw9js9"
      },
      "execution_count": 32,
      "outputs": []
    },
    {
      "cell_type": "code",
      "source": [
        "from pytorch_lightning.callbacks import ModelCheckpoint\n",
        "\n",
        "# Configurar hiperparámetros\n",
        "src_vocab_size = tokenizer_src.vocab_size\n",
        "tgt_vocab_size = tokenizer_tgt.vocab_size\n",
        "d_model = 512\n",
        "num_heads = 8\n",
        "num_encoder_layers = 6\n",
        "num_decoder_layers = 6\n",
        "dim_feedforward = 2048\n",
        "dropout = 0.1\n",
        "\n",
        "# Inicializar el modelo\n",
        "model = TranslationTransformer(src_vocab_size, tgt_vocab_size, d_model, num_heads, num_encoder_layers, num_decoder_layers, dim_feedforward, dropout)\n",
        "\n",
        "# Inicializar el DataModule\n",
        "batch_size = 32\n",
        "data_module = TranslationDataModule(english_tokenized, spanish_tokenized, batch_size)\n",
        "\n",
        "checkpoint_callback = ModelCheckpoint(\n",
        "    dirpath='/content/checkpoints',  # Aquí especificas el directorio para guardar los checkpoints\n",
        "    filename='best-checkpoint',\n",
        "    save_top_k=1,  # Guardar el mejor modelo\n",
        "    monitor='val_loss',  # Basado en la pérdida de validación\n",
        "    mode='min'\n",
        ")\n",
        "\n",
        "trainer = pl.Trainer(\n",
        "    max_epochs=2,\n",
        "    callbacks=[checkpoint_callback],\n",
        "    accelerator=\"gpu\",\n",
        "    devices=1\n",
        ")\n",
        "\n",
        "# Entrenar el modelo\n",
        "trainer.fit(model, data_module)\n",
        "\n"
      ],
      "metadata": {
        "colab": {
          "base_uri": "https://localhost:8080/",
          "height": 413,
          "referenced_widgets": [
            "517b9ddf294c4e41b50edfa83229d68f",
            "7f89b03c779e461c8cd7787ec2b4024f",
            "c3142a0963e648219e9bb08499b5e31b",
            "e1c4890cd8df4b96b489f5cfb618f437",
            "15f279d52b074836a45409698ff03cd7",
            "67ca51fe63d843e19ef0c15853261397",
            "b4292b3b2676419eb0893c9a7f069665",
            "e5937a86069c430ba9268ce4bf20b823",
            "25bc5536ba7a476c832d009d50c911b1",
            "bab0941a37a74f67b5bb1d5173ca0d37",
            "be2d5c99453b4389ba0d9f1e4c48a9b9",
            "afbfdf4a67944b10a463b9dadfe8d3be",
            "cc0b2462f5fd4873ad6d03c39d7f31e0",
            "a883bf09fce2450d8393bfc3209df61e",
            "59f8d9c647e049ccb383d7a9168184d9",
            "445fcabcd62c4490b48b582f60bae672",
            "5efa48ae3fc04c1f8e2eb61a9f817179",
            "5fa98d8036144d99a9bd8cefe98908b0",
            "7980ca0edad44edeb05adad088f830eb",
            "122ef624de7e40cfb424ee5c263ac18c",
            "deeac52638e941f3a8871325b4cc618a",
            "ede2a17199ad49daa225d9e1adfebd13",
            "5db1a784f28d482b806110e308c96c6d",
            "e6f84e03681949fab2e1cbf994599d88",
            "5f9a5a89e5c648d783ba3c3981799567",
            "76488f7042d14d7d8b9ec1307a164a19",
            "55aaf102815b41488bdad616cd4f6d85",
            "a6840957cb75491396e401edd9246a84",
            "e6589b7bc9ae45e5929c0921f44b95d8",
            "8a2d3d50ec5b4834b9bf37fe9de893c4",
            "81b0eb8cd3154276b7f3c3ce77fd94be",
            "60c0f9b4eea84949a2947ab86abe36ab",
            "91a9eb56177941a588c3b117f3dd97b8",
            "9f7f67426856458b94889905c8ae0649",
            "b527916d908f42a7a9bda17083b71aab",
            "269235b91b044b358caf846d7a5f4aaa",
            "976fefd707a44a2b87f5ec1e9e8f2498",
            "c66efa459be14cabb3286cf6413938d4",
            "ddc4c17b080243858914c8c27d6b80d1",
            "ef2fe899715a467bad18c04b46c2e5f8",
            "3f559a92e1ad442f95b82e4ebef6c917",
            "bd5b2de88cb1497088ff5c2c7967fda1",
            "971d893ad9944559ad04d4f2f1a24a1e",
            "da878a405b874f11901de6f9a90d797a"
          ]
        },
        "id": "Y4N2dSuK9l10",
        "outputId": "3a69b0ec-1b28-4c95-8024-6c9e67b21a0a"
      },
      "execution_count": 35,
      "outputs": [
        {
          "output_type": "stream",
          "name": "stderr",
          "text": [
            "INFO:pytorch_lightning.utilities.rank_zero:GPU available: True (cuda), used: True\n",
            "INFO:pytorch_lightning.utilities.rank_zero:TPU available: False, using: 0 TPU cores\n",
            "INFO:pytorch_lightning.utilities.rank_zero:HPU available: False, using: 0 HPUs\n",
            "/usr/local/lib/python3.10/dist-packages/pytorch_lightning/callbacks/model_checkpoint.py:654: Checkpoint directory /content/checkpoints exists and is not empty.\n",
            "INFO:pytorch_lightning.accelerators.cuda:LOCAL_RANK: 0 - CUDA_VISIBLE_DEVICES: [0,1,2,3]\n",
            "INFO:pytorch_lightning.callbacks.model_summary:\n",
            "  | Name          | Type        | Params | Mode \n",
            "------------------------------------------------------\n",
            "0 | src_embedding | Embedding   | 15.6 M | train\n",
            "1 | tgt_embedding | Embedding   | 15.9 M | train\n",
            "2 | transformer   | Transformer | 44.1 M | train\n",
            "3 | fc_out        | Linear      | 15.9 M | train\n",
            "  | other params  | n/a         | 512 K  | n/a  \n",
            "------------------------------------------------------\n",
            "92.1 M    Trainable params\n",
            "0         Non-trainable params\n",
            "92.1 M    Total params\n",
            "368.227   Total estimated model params size (MB)\n",
            "154       Modules in train mode\n",
            "0         Modules in eval mode\n"
          ]
        },
        {
          "output_type": "display_data",
          "data": {
            "text/plain": [
              "Sanity Checking: |          | 0/? [00:00<?, ?it/s]"
            ],
            "application/vnd.jupyter.widget-view+json": {
              "version_major": 2,
              "version_minor": 0,
              "model_id": "517b9ddf294c4e41b50edfa83229d68f"
            }
          },
          "metadata": {}
        },
        {
          "output_type": "display_data",
          "data": {
            "text/plain": [
              "Training: |          | 0/? [00:00<?, ?it/s]"
            ],
            "application/vnd.jupyter.widget-view+json": {
              "version_major": 2,
              "version_minor": 0,
              "model_id": "afbfdf4a67944b10a463b9dadfe8d3be"
            }
          },
          "metadata": {}
        },
        {
          "output_type": "display_data",
          "data": {
            "text/plain": [
              "Validation: |          | 0/? [00:00<?, ?it/s]"
            ],
            "application/vnd.jupyter.widget-view+json": {
              "version_major": 2,
              "version_minor": 0,
              "model_id": "5db1a784f28d482b806110e308c96c6d"
            }
          },
          "metadata": {}
        },
        {
          "output_type": "display_data",
          "data": {
            "text/plain": [
              "Validation: |          | 0/? [00:00<?, ?it/s]"
            ],
            "application/vnd.jupyter.widget-view+json": {
              "version_major": 2,
              "version_minor": 0,
              "model_id": "9f7f67426856458b94889905c8ae0649"
            }
          },
          "metadata": {}
        },
        {
          "output_type": "stream",
          "name": "stderr",
          "text": [
            "INFO:pytorch_lightning.utilities.rank_zero:`Trainer.fit` stopped: `max_epochs=2` reached.\n"
          ]
        }
      ]
    },
    {
      "cell_type": "code",
      "source": [
        "# (suponiendo que tienes un checkpoint guardado del modelo entrenado)\n",
        "checkpoint_path = '/content/checkpoints/best-checkpoint.ckpt'\n",
        "\n",
        "# Cargar el modelo desde el checkpoint, pasando los parámetros necesarios\n",
        "model = TranslationTransformer.load_from_checkpoint(\n",
        "    checkpoint_path=checkpoint_path,\n",
        "    src_vocab_size=src_vocab_size,      # Tamaño del vocabulario de origen\n",
        "    tgt_vocab_size=tgt_vocab_size,      # Tamaño del vocabulario de destino\n",
        "    d_model=d_model,                    # Dimensión del modelo\n",
        "    num_heads=num_heads,                # Número de cabezas de atención\n",
        "    num_encoder_layers=num_encoder_layers,  # Capas del encoder\n",
        "    num_decoder_layers=num_decoder_layers,  # Capas del decoder\n",
        "    dim_feedforward=dim_feedforward,    # Dimensión del feedforward\n",
        "    dropout=dropout                     # Tasa de dropout\n",
        ")\n",
        "\n",
        "# Mover el modelo a la GPU si está disponible\n",
        "device = torch.device('cuda' if torch.cuda.is_available() else 'cpu')\n",
        "model = model.to(device)\n"
      ],
      "metadata": {
        "id": "hF0F7ZDGTYzD"
      },
      "execution_count": 37,
      "outputs": []
    },
    {
      "cell_type": "code",
      "source": [
        "import torch\n",
        "\n",
        "# Función para traducir una frase en español a inglés\n",
        "def translate_sentence(sentence, model, tokenizer_src, tokenizer_tgt, max_length=128):\n",
        "    # Establecer el modelo en modo de evaluación\n",
        "    model.eval()\n",
        "\n",
        "    # Tokenizar la frase en español\n",
        "    tokens = tokenizer_tgt.encode(sentence, return_tensors=\"pt\", max_length=max_length, truncation=True, padding='max_length')\n",
        "\n",
        "    # Mover los tokens a la GPU si es necesario\n",
        "    tokens = tokens.to(model.device)\n",
        "\n",
        "    # Crear un tensor vacío para los tokens de salida (frase en inglés)\n",
        "    tgt_tokens = torch.zeros((1, max_length), dtype=torch.long).to(model.device)\n",
        "\n",
        "    # Inicialmente, el token de inicio (CLS) será el primer token en la secuencia de destino\n",
        "    tgt_tokens[0, 0] = tokenizer_src.cls_token_id\n",
        "\n",
        "    # Generar la secuencia de salida paso a paso\n",
        "    for i in range(1, max_length):\n",
        "        # Crear una máscara para evitar mirar hacia adelante\n",
        "        tgt_mask = model.generate_square_subsequent_mask(i).to(model.device)\n",
        "\n",
        "        # Ejecutar el modelo para obtener los tokens predichos\n",
        "        with torch.no_grad():\n",
        "            outputs = model(src=tokens, tgt=tgt_tokens[:, :i], tgt_mask=tgt_mask)\n",
        "\n",
        "        # Obtener el token con la mayor probabilidad\n",
        "        next_token = outputs.argmax(dim=-1)[:, -1].item()\n",
        "\n",
        "        # Agregar el siguiente token a la secuencia de salida\n",
        "        tgt_tokens[0, i] = next_token\n",
        "\n",
        "        # Si el token es el token de fin de secuencia (SEP), detener el bucle\n",
        "        if next_token == tokenizer_src.sep_token_id:\n",
        "            break\n",
        "\n",
        "    # Decodificar los tokens de salida (frase en inglés)\n",
        "    translated_sentence = tokenizer_src.decode(tgt_tokens[0], skip_special_tokens=True)\n",
        "    return translated_sentence\n"
      ],
      "metadata": {
        "id": "8nHMa-beTkiC"
      },
      "execution_count": 45,
      "outputs": []
    },
    {
      "cell_type": "code",
      "source": [
        "# ======= TRADUCIR UNA FRASE =======\n",
        "\n",
        "# Cargar los tokenizadores usados durante el entrenamiento\n",
        "tokenizer_src = BertTokenizer.from_pretrained(\"bert-base-uncased\")  # Para inglés (fuente)\n",
        "tokenizer_tgt = BertTokenizer.from_pretrained(\"dccuchile/bert-base-spanish-wwm-uncased\")  # Para español (destino)\n",
        "\n",
        "# Frase de prueba en español\n",
        "sentence_es = \"¿Cómo estás?\"\n",
        "\n",
        "# Realizar la traducción\n",
        "translated_sentence = translate_sentence(sentence_es, model, tokenizer_src, tokenizer_tgt)\n",
        "\n",
        "# Mostrar la frase traducida\n",
        "print(f\"Frase en español: {sentence_es}\")\n",
        "print(f\"Traducción al inglés: {translated_sentence}\")"
      ],
      "metadata": {
        "colab": {
          "base_uri": "https://localhost:8080/"
        },
        "id": "8BWXCs2XUSDJ",
        "outputId": "55cfeefe-fd70-4223-e26d-a0452a3a908d"
      },
      "execution_count": 46,
      "outputs": [
        {
          "output_type": "stream",
          "name": "stdout",
          "text": [
            "Frase en español: ¿Cómo estás?\n",
            "Traducción al inglés: . \\ 名 + e r λ 。 カ † 5 р r λ 。 カ † æ e r ¶ arrive ј _ \\ エ 5 р r λ 。 \\ エ _ \\ エ 5 р. \\ エ _ \\ エ e r faced π + \\ エ * [unused4] [unused0] [unused0] [unused0] [unused0] [unused0] [unused0] [unused0] [unused0] [unused0] [unused0] [unused0] [unused0] [unused0] [unused0] [unused0] [unused0] [unused0] [unused0] [unused0] [unused0] [unused0] [unused0] [unused0] [unused0] [unused0] [unused0] [unused0] [unused0] [unused0] [unused0] [unused0] [unused0] [unused0] [unused0] [unused0] [unused0] [unused0] [unused0] [unused0] [unused0] [unused0] [unused0] [unused0] [unused0] [unused0] [unused0] [unused0] [unused0] [unused0] [unused0] [unused0] [unused0] [unused0] [unused0] [unused0] [unused0] [unused0] [unused0] [unused0] [unused0] [unused0] [unused0] [unused0] [unused0] [unused0] [unused0] [unused0] [unused0] [unused0] [unused0] [unused0] [unused0] [unused0] [unused0]\n"
          ]
        }
      ]
    },
    {
      "cell_type": "markdown",
      "source": [
        "# Explicación del problema en la traducción\n",
        "El resultado de la traducción no está generando una secuencia coherente. Las razones pueden ser las siguientes:\n",
        "- Es posible que el modelo no haya sido entrenado correctamente o que el número de épocas sea insuficiente para aprender la tarea de traducción.\n",
        "- Podría haber errores en los datos o el proceso de entrenamiento, lo que puede hacer que el modelo no converja correctamente\n",
        "\n",
        "# Conclusiones\n",
        "- El modelo Transformer es poderoso, pero requiere un entrenamiento exhaustivo y un preprocesamiento cuidadoso de los datos.\n",
        "- Entrenar un modelo Transformer desde cero para una tarea como la traducción automática puede ser difícil sin grandes cantidades de datos y tiempo de entrenamiento.\n",
        "- Usar tokenizadores incorrectos o inconsistentes durante el entrenamiento e inferencia puede generar resultados incoherentes."
      ],
      "metadata": {
        "id": "71v39smCWUdi"
      }
    },
    {
      "cell_type": "markdown",
      "source": [
        "# MODELO PREENTRENADO TRANSFORMER\n",
        "\n",
        "\n",
        "---\n",
        "\n"
      ],
      "metadata": {
        "id": "hP4McZuTRF8B"
      }
    },
    {
      "cell_type": "markdown",
      "source": [
        "El modelo MarianMT de Hugging Face es un modelo preentrenado especializado en traducción automática. En este caso, hemos utilizado el modelo Helsinki-NLP/opus-mt-en-es, que está preentrenado para traducir de inglés a español"
      ],
      "metadata": {
        "id": "SvGriYfMW6Y2"
      }
    },
    {
      "cell_type": "markdown",
      "source": [
        "# Ventajas de modelos preentrenados:\n",
        "\n",
        "- Los modelos como MarianMT han sido entrenados en grandes corpus multilingües y son capaces de generalizar bien a nuevas frases.\n",
        "-  No es necesario entrenar el modelo desde cero, lo que ahorra tiempo y recursos computacionales.\n"
      ],
      "metadata": {
        "id": "HSIJdzSEW8zp"
      }
    },
    {
      "cell_type": "code",
      "source": [
        "from transformers import MarianTokenizer, MarianMTModel\n",
        "\n",
        "# Modelo y tokenizador preentrenado para la traducción\n",
        "# Vamos a usar el modelo MarianMT de Hugging Face\n",
        "model_name = \"Helsinki-NLP/opus-mt-en-es\"  # Ejemplo de traducción de inglés a español\n",
        "tokenizer = MarianTokenizer.from_pretrained(model_name)\n",
        "translation_model = MarianMTModel.from_pretrained(model_name).to(device)\n",
        "\n",
        "def translate_text(text, model, tokenizer):\n",
        "\n",
        "    # Tokenizamos el texto\n",
        "    encoded_text = tokenizer(text, return_tensors=\"pt\", padding=True, truncation=True).to(device)\n",
        "\n",
        "    # Generamos la traducción\n",
        "    translated_tokens = model.generate(**encoded_text)\n",
        "\n",
        "    # Decodificamos la salida y devolvemos el texto traducido\n",
        "    translated_text = tokenizer.decode(translated_tokens[0], skip_special_tokens=True)\n",
        "    return translated_text\n",
        "\n"
      ],
      "metadata": {
        "id": "_nrqgU7XQDOL"
      },
      "execution_count": 49,
      "outputs": []
    },
    {
      "cell_type": "markdown",
      "source": [
        "\n",
        "# Ejemplo de uso:"
      ],
      "metadata": {
        "id": "nRwveUwMaBUO"
      }
    },
    {
      "cell_type": "code",
      "source": [
        "\n",
        "input_sentence = \"Most people have no idea of the giant capacity we can immediately command when we focus all of our resources on mastering a single area of our lives  \"\n",
        "translated_sentence = translate_text(input_sentence, translation_model, tokenizer)\n",
        "print(f\"Input sentence: {input_sentence}\")\n",
        "print(f\"Translated sentence: {translated_sentence}\")"
      ],
      "metadata": {
        "colab": {
          "base_uri": "https://localhost:8080/"
        },
        "id": "95d832McVOMb",
        "outputId": "e5ff0f6b-c27d-41a0-e35b-ba4edfa632b3"
      },
      "execution_count": 50,
      "outputs": [
        {
          "output_type": "stream",
          "name": "stdout",
          "text": [
            "Input sentence: Most people have no idea of the giant capacity we can immediately command when we focus all of our resources on mastering a single area of our lives  \n",
            "Translated sentence: La mayoría de la gente no tiene idea de la capacidad gigante que podemos controlar inmediatamente cuando centramos todos nuestros recursos en dominar una sola área de nuestras vidas\n"
          ]
        }
      ]
    },
    {
      "cell_type": "code",
      "source": [
        "# Ejemplo de uso:\n",
        "input_sentence = \"Keep your face always toward the sunshine and shadows will fall behind you  \"\n",
        "translated_sentence = translate_text(input_sentence, translation_model, tokenizer)\n",
        "print(f\"Input sentence: {input_sentence}\")\n",
        "print(f\"Translated sentence: {translated_sentence}\")"
      ],
      "metadata": {
        "colab": {
          "base_uri": "https://localhost:8080/"
        },
        "id": "Tw-75RLIZ2f0",
        "outputId": "e7ba2316-758a-4ac7-f266-946623394c2e"
      },
      "execution_count": 51,
      "outputs": [
        {
          "output_type": "stream",
          "name": "stdout",
          "text": [
            "Input sentence: Keep your face always toward the sunshine and shadows will fall behind you  \n",
            "Translated sentence: Mantén tu cara siempre hacia el sol y las sombras caerán detrás de ti\n"
          ]
        }
      ]
    },
    {
      "cell_type": "markdown",
      "source": [
        "# CONCLUSIONES\n",
        "MarianMT es un modelo Transformer preentrenado para tareas de traducción automática entre varios pares de idiomas. Fue entrenado usando grandes cantidades de datos paralelos (pares de frases traducidas) para aprender cómo transformar secuencias de texto de un idioma a otro. Está basado en la arquitectura del Transformer y se ha optimizado para realizar traducciones de manera eficiente y precisa. Utiliza técnicas de preentrenamiento masivo, lo que le permite generalizar bien en múltiples dominios y lenguajes"
      ],
      "metadata": {
        "id": "IoZVRAIAXPSE"
      }
    },
    {
      "cell_type": "markdown",
      "source": [
        "# Comparación con los modelos realizados en clase\n",
        "\n",
        "---\n",
        "\n",
        "\n",
        "Aunque los modelos Encoder-Decoder con RNNs fueron pioneros en la traducción automática, sus resultados pueden ser limitados en comparación con los modelos más recientes basados en Transformers. Los RNNs tienden a sufrir de problemas de captura de dependencias a largo plazo y mala generalización, lo que lleva a traducciones incorrectas o imprecisas.\n",
        "\n",
        "Los modelos como MarianMT ofrecen una traducción más precisa y contextualmente adecuada. Son capaces de comprender mejor los pronombres posesivos, las expresiones temporales y otros aspectos gramaticales complejos, debido a su entrenamiento masivo y el uso de auto-atención."
      ],
      "metadata": {
        "id": "Ottdrjt5Y3Fh"
      }
    }
  ]
}